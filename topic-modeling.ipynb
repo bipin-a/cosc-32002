{
 "cells": [
  {
   "cell_type": "code",
   "execution_count": 3,
   "id": "75d518a8-5da7-43c9-996f-252a049cfe64",
   "metadata": {},
   "outputs": [],
   "source": [
    "from gensim import corpora, models, similarities, downloader\n"
   ]
  },
  {
   "cell_type": "code",
   "execution_count": 5,
   "id": "30f3f131-b0e7-4ad1-a3fb-366a59e8b076",
   "metadata": {},
   "outputs": [],
   "source": [
    "text = \"John likes to watch movies. Mary likes movies too.\""
   ]
  },
  {
   "cell_type": "code",
   "execution_count": 9,
   "id": "974cbadc-cb7b-40e7-807c-dd56050ee3e6",
   "metadata": {},
   "outputs": [],
   "source": [
    "# Model based off of frequency of a word is: Bag of Words\n",
    "\n",
    "# Pros: Easy \n",
    "# Cons: Missing Context"
   ]
  },
  {
   "cell_type": "code",
   "execution_count": null,
   "id": "33a84607-35e9-4528-9f68-5c6ba0e443fc",
   "metadata": {},
   "outputs": [],
   "source": []
  },
  {
   "cell_type": "code",
   "execution_count": 10,
   "id": "87e710d8-088b-491d-9899-5d48944ce6ce",
   "metadata": {},
   "outputs": [],
   "source": [
    "# Model based off of likeley of the next word given previous n words: Baysian n-grams\n",
    "\n",
    "# Pros: Captures context from previous words\n",
    "# Cons: Cannot define similarity of words"
   ]
  },
  {
   "cell_type": "code",
   "execution_count": null,
   "id": "b7591cf7-0af8-4c82-9448-94849a74c6c2",
   "metadata": {},
   "outputs": [],
   "source": []
  },
  {
   "cell_type": "code",
   "execution_count": 10,
   "id": "29cc86cd-bd6e-4594-ad8f-8c829ba6108b",
   "metadata": {},
   "outputs": [],
   "source": [
    "# Word2Vec Embeddings\n",
    "\n",
    "# Pros: Captures context from previous words\n",
    "# Cons: Cannot define similarity of words"
   ]
  },
  {
   "cell_type": "code",
   "execution_count": 13,
   "id": "b39dc886-a8ea-4317-a0f1-b2e9e2db86c0",
   "metadata": {},
   "outputs": [
    {
     "name": "stdout",
     "output_type": "stream",
     "text": [
      "[--------------------------------------------------] 1.4% 23.4/1662.8MB downloaded"
     ]
    },
    {
     "name": "stderr",
     "output_type": "stream",
     "text": [
      "IOPub message rate exceeded.\n",
      "The Jupyter server will temporarily stop sending output\n",
      "to the client in order to avoid crashing it.\n",
      "To change this limit, set the config variable\n",
      "`--ServerApp.iopub_msg_rate_limit`.\n",
      "\n",
      "Current values:\n",
      "ServerApp.iopub_msg_rate_limit=1000.0 (msgs/sec)\n",
      "ServerApp.rate_limit_window=3.0 (secs)\n",
      "\n"
     ]
    },
    {
     "name": "stdout",
     "output_type": "stream",
     "text": [
      "[==------------------------------------------------] 5.0% 82.7/1662.8MB downloaded"
     ]
    },
    {
     "name": "stderr",
     "output_type": "stream",
     "text": [
      "IOPub message rate exceeded.\n",
      "The Jupyter server will temporarily stop sending output\n",
      "to the client in order to avoid crashing it.\n",
      "To change this limit, set the config variable\n",
      "`--ServerApp.iopub_msg_rate_limit`.\n",
      "\n",
      "Current values:\n",
      "ServerApp.iopub_msg_rate_limit=1000.0 (msgs/sec)\n",
      "ServerApp.rate_limit_window=3.0 (secs)\n",
      "\n"
     ]
    },
    {
     "name": "stdout",
     "output_type": "stream",
     "text": [
      "[====----------------------------------------------] 8.7% 144.6/1662.8MB downloaded"
     ]
    },
    {
     "name": "stderr",
     "output_type": "stream",
     "text": [
      "IOPub message rate exceeded.\n",
      "The Jupyter server will temporarily stop sending output\n",
      "to the client in order to avoid crashing it.\n",
      "To change this limit, set the config variable\n",
      "`--ServerApp.iopub_msg_rate_limit`.\n",
      "\n",
      "Current values:\n",
      "ServerApp.iopub_msg_rate_limit=1000.0 (msgs/sec)\n",
      "ServerApp.rate_limit_window=3.0 (secs)\n",
      "\n"
     ]
    },
    {
     "name": "stdout",
     "output_type": "stream",
     "text": [
      "[======--------------------------------------------] 12.3% 204.9/1662.8MB downloaded"
     ]
    },
    {
     "name": "stderr",
     "output_type": "stream",
     "text": [
      "IOPub message rate exceeded.\n",
      "The Jupyter server will temporarily stop sending output\n",
      "to the client in order to avoid crashing it.\n",
      "To change this limit, set the config variable\n",
      "`--ServerApp.iopub_msg_rate_limit`.\n",
      "\n",
      "Current values:\n",
      "ServerApp.iopub_msg_rate_limit=1000.0 (msgs/sec)\n",
      "ServerApp.rate_limit_window=3.0 (secs)\n",
      "\n"
     ]
    },
    {
     "name": "stdout",
     "output_type": "stream",
     "text": [
      "[=======-------------------------------------------] 15.9% 264.0/1662.8MB downloaded"
     ]
    },
    {
     "name": "stderr",
     "output_type": "stream",
     "text": [
      "IOPub message rate exceeded.\n",
      "The Jupyter server will temporarily stop sending output\n",
      "to the client in order to avoid crashing it.\n",
      "To change this limit, set the config variable\n",
      "`--ServerApp.iopub_msg_rate_limit`.\n",
      "\n",
      "Current values:\n",
      "ServerApp.iopub_msg_rate_limit=1000.0 (msgs/sec)\n",
      "ServerApp.rate_limit_window=3.0 (secs)\n",
      "\n"
     ]
    },
    {
     "name": "stdout",
     "output_type": "stream",
     "text": [
      "[=========-----------------------------------------] 19.6% 325.2/1662.8MB downloaded"
     ]
    },
    {
     "name": "stderr",
     "output_type": "stream",
     "text": [
      "IOPub message rate exceeded.\n",
      "The Jupyter server will temporarily stop sending output\n",
      "to the client in order to avoid crashing it.\n",
      "To change this limit, set the config variable\n",
      "`--ServerApp.iopub_msg_rate_limit`.\n",
      "\n",
      "Current values:\n",
      "ServerApp.iopub_msg_rate_limit=1000.0 (msgs/sec)\n",
      "ServerApp.rate_limit_window=3.0 (secs)\n",
      "\n"
     ]
    },
    {
     "name": "stdout",
     "output_type": "stream",
     "text": [
      "[===========---------------------------------------] 23.3% 386.9/1662.8MB downloaded"
     ]
    },
    {
     "name": "stderr",
     "output_type": "stream",
     "text": [
      "IOPub message rate exceeded.\n",
      "The Jupyter server will temporarily stop sending output\n",
      "to the client in order to avoid crashing it.\n",
      "To change this limit, set the config variable\n",
      "`--ServerApp.iopub_msg_rate_limit`.\n",
      "\n",
      "Current values:\n",
      "ServerApp.iopub_msg_rate_limit=1000.0 (msgs/sec)\n",
      "ServerApp.rate_limit_window=3.0 (secs)\n",
      "\n"
     ]
    },
    {
     "name": "stdout",
     "output_type": "stream",
     "text": [
      "[=============-------------------------------------] 26.9% 447.5/1662.8MB downloaded"
     ]
    },
    {
     "name": "stderr",
     "output_type": "stream",
     "text": [
      "IOPub message rate exceeded.\n",
      "The Jupyter server will temporarily stop sending output\n",
      "to the client in order to avoid crashing it.\n",
      "To change this limit, set the config variable\n",
      "`--ServerApp.iopub_msg_rate_limit`.\n",
      "\n",
      "Current values:\n",
      "ServerApp.iopub_msg_rate_limit=1000.0 (msgs/sec)\n",
      "ServerApp.rate_limit_window=3.0 (secs)\n",
      "\n"
     ]
    },
    {
     "name": "stdout",
     "output_type": "stream",
     "text": [
      "[===============-----------------------------------] 30.4% 505.9/1662.8MB downloaded"
     ]
    },
    {
     "name": "stderr",
     "output_type": "stream",
     "text": [
      "IOPub message rate exceeded.\n",
      "The Jupyter server will temporarily stop sending output\n",
      "to the client in order to avoid crashing it.\n",
      "To change this limit, set the config variable\n",
      "`--ServerApp.iopub_msg_rate_limit`.\n",
      "\n",
      "Current values:\n",
      "ServerApp.iopub_msg_rate_limit=1000.0 (msgs/sec)\n",
      "ServerApp.rate_limit_window=3.0 (secs)\n",
      "\n"
     ]
    },
    {
     "name": "stdout",
     "output_type": "stream",
     "text": [
      "[=================---------------------------------] 34.1% 566.5/1662.8MB downloaded"
     ]
    },
    {
     "name": "stderr",
     "output_type": "stream",
     "text": [
      "IOPub message rate exceeded.\n",
      "The Jupyter server will temporarily stop sending output\n",
      "to the client in order to avoid crashing it.\n",
      "To change this limit, set the config variable\n",
      "`--ServerApp.iopub_msg_rate_limit`.\n",
      "\n",
      "Current values:\n",
      "ServerApp.iopub_msg_rate_limit=1000.0 (msgs/sec)\n",
      "ServerApp.rate_limit_window=3.0 (secs)\n",
      "\n"
     ]
    },
    {
     "name": "stdout",
     "output_type": "stream",
     "text": [
      "[==================--------------------------------] 37.7% 626.8/1662.8MB downloaded"
     ]
    },
    {
     "name": "stderr",
     "output_type": "stream",
     "text": [
      "IOPub message rate exceeded.\n",
      "The Jupyter server will temporarily stop sending output\n",
      "to the client in order to avoid crashing it.\n",
      "To change this limit, set the config variable\n",
      "`--ServerApp.iopub_msg_rate_limit`.\n",
      "\n",
      "Current values:\n",
      "ServerApp.iopub_msg_rate_limit=1000.0 (msgs/sec)\n",
      "ServerApp.rate_limit_window=3.0 (secs)\n",
      "\n"
     ]
    },
    {
     "name": "stdout",
     "output_type": "stream",
     "text": [
      "[====================------------------------------] 41.3% 686.7/1662.8MB downloaded"
     ]
    },
    {
     "name": "stderr",
     "output_type": "stream",
     "text": [
      "IOPub message rate exceeded.\n",
      "The Jupyter server will temporarily stop sending output\n",
      "to the client in order to avoid crashing it.\n",
      "To change this limit, set the config variable\n",
      "`--ServerApp.iopub_msg_rate_limit`.\n",
      "\n",
      "Current values:\n",
      "ServerApp.iopub_msg_rate_limit=1000.0 (msgs/sec)\n",
      "ServerApp.rate_limit_window=3.0 (secs)\n",
      "\n"
     ]
    },
    {
     "name": "stdout",
     "output_type": "stream",
     "text": [
      "[======================----------------------------] 44.9% 747.1/1662.8MB downloaded"
     ]
    },
    {
     "name": "stderr",
     "output_type": "stream",
     "text": [
      "IOPub message rate exceeded.\n",
      "The Jupyter server will temporarily stop sending output\n",
      "to the client in order to avoid crashing it.\n",
      "To change this limit, set the config variable\n",
      "`--ServerApp.iopub_msg_rate_limit`.\n",
      "\n",
      "Current values:\n",
      "ServerApp.iopub_msg_rate_limit=1000.0 (msgs/sec)\n",
      "ServerApp.rate_limit_window=3.0 (secs)\n",
      "\n"
     ]
    },
    {
     "name": "stdout",
     "output_type": "stream",
     "text": [
      "[========================--------------------------] 48.6% 807.4/1662.8MB downloaded"
     ]
    },
    {
     "name": "stderr",
     "output_type": "stream",
     "text": [
      "IOPub message rate exceeded.\n",
      "The Jupyter server will temporarily stop sending output\n",
      "to the client in order to avoid crashing it.\n",
      "To change this limit, set the config variable\n",
      "`--ServerApp.iopub_msg_rate_limit`.\n",
      "\n",
      "Current values:\n",
      "ServerApp.iopub_msg_rate_limit=1000.0 (msgs/sec)\n",
      "ServerApp.rate_limit_window=3.0 (secs)\n",
      "\n"
     ]
    },
    {
     "name": "stdout",
     "output_type": "stream",
     "text": [
      "[==========================------------------------] 52.2% 867.5/1662.8MB downloaded"
     ]
    },
    {
     "name": "stderr",
     "output_type": "stream",
     "text": [
      "IOPub message rate exceeded.\n",
      "The Jupyter server will temporarily stop sending output\n",
      "to the client in order to avoid crashing it.\n",
      "To change this limit, set the config variable\n",
      "`--ServerApp.iopub_msg_rate_limit`.\n",
      "\n",
      "Current values:\n",
      "ServerApp.iopub_msg_rate_limit=1000.0 (msgs/sec)\n",
      "ServerApp.rate_limit_window=3.0 (secs)\n",
      "\n"
     ]
    },
    {
     "name": "stdout",
     "output_type": "stream",
     "text": [
      "[===========================-----------------------] 55.8% 928.5/1662.8MB downloaded"
     ]
    },
    {
     "name": "stderr",
     "output_type": "stream",
     "text": [
      "IOPub message rate exceeded.\n",
      "The Jupyter server will temporarily stop sending output\n",
      "to the client in order to avoid crashing it.\n",
      "To change this limit, set the config variable\n",
      "`--ServerApp.iopub_msg_rate_limit`.\n",
      "\n",
      "Current values:\n",
      "ServerApp.iopub_msg_rate_limit=1000.0 (msgs/sec)\n",
      "ServerApp.rate_limit_window=3.0 (secs)\n",
      "\n"
     ]
    },
    {
     "name": "stdout",
     "output_type": "stream",
     "text": [
      "[=============================---------------------] 58.6% 974.1/1662.8MB downloaded"
     ]
    },
    {
     "name": "stderr",
     "output_type": "stream",
     "text": [
      "IOPub message rate exceeded.\n",
      "The Jupyter server will temporarily stop sending output\n",
      "to the client in order to avoid crashing it.\n",
      "To change this limit, set the config variable\n",
      "`--ServerApp.iopub_msg_rate_limit`.\n",
      "\n",
      "Current values:\n",
      "ServerApp.iopub_msg_rate_limit=1000.0 (msgs/sec)\n",
      "ServerApp.rate_limit_window=3.0 (secs)\n",
      "\n"
     ]
    },
    {
     "name": "stdout",
     "output_type": "stream",
     "text": [
      "[=============================---------------------] 59.6% 990.6/1662.8MB downloaded"
     ]
    },
    {
     "name": "stderr",
     "output_type": "stream",
     "text": [
      "IOPub message rate exceeded.\n",
      "The Jupyter server will temporarily stop sending output\n",
      "to the client in order to avoid crashing it.\n",
      "To change this limit, set the config variable\n",
      "`--ServerApp.iopub_msg_rate_limit`.\n",
      "\n",
      "Current values:\n",
      "ServerApp.iopub_msg_rate_limit=1000.0 (msgs/sec)\n",
      "ServerApp.rate_limit_window=3.0 (secs)\n",
      "\n"
     ]
    },
    {
     "name": "stdout",
     "output_type": "stream",
     "text": [
      "[===============================-------------------] 62.1% 1032.2/1662.8MB downloaded"
     ]
    },
    {
     "name": "stderr",
     "output_type": "stream",
     "text": [
      "IOPub message rate exceeded.\n",
      "The Jupyter server will temporarily stop sending output\n",
      "to the client in order to avoid crashing it.\n",
      "To change this limit, set the config variable\n",
      "`--ServerApp.iopub_msg_rate_limit`.\n",
      "\n",
      "Current values:\n",
      "ServerApp.iopub_msg_rate_limit=1000.0 (msgs/sec)\n",
      "ServerApp.rate_limit_window=3.0 (secs)\n",
      "\n"
     ]
    },
    {
     "name": "stdout",
     "output_type": "stream",
     "text": [
      "[===============================-------------------] 63.0% 1047.1/1662.8MB downloaded"
     ]
    },
    {
     "name": "stderr",
     "output_type": "stream",
     "text": [
      "IOPub message rate exceeded.\n",
      "The Jupyter server will temporarily stop sending output\n",
      "to the client in order to avoid crashing it.\n",
      "To change this limit, set the config variable\n",
      "`--ServerApp.iopub_msg_rate_limit`.\n",
      "\n",
      "Current values:\n",
      "ServerApp.iopub_msg_rate_limit=1000.0 (msgs/sec)\n",
      "ServerApp.rate_limit_window=3.0 (secs)\n",
      "\n"
     ]
    },
    {
     "name": "stdout",
     "output_type": "stream",
     "text": [
      "[=================================-----------------] 66.6% 1106.7/1662.8MB downloaded"
     ]
    },
    {
     "name": "stderr",
     "output_type": "stream",
     "text": [
      "IOPub message rate exceeded.\n",
      "The Jupyter server will temporarily stop sending output\n",
      "to the client in order to avoid crashing it.\n",
      "To change this limit, set the config variable\n",
      "`--ServerApp.iopub_msg_rate_limit`.\n",
      "\n",
      "Current values:\n",
      "ServerApp.iopub_msg_rate_limit=1000.0 (msgs/sec)\n",
      "ServerApp.rate_limit_window=3.0 (secs)\n",
      "\n"
     ]
    },
    {
     "name": "stdout",
     "output_type": "stream",
     "text": [
      "[===================================---------------] 70.2% 1166.9/1662.8MB downloaded"
     ]
    },
    {
     "name": "stderr",
     "output_type": "stream",
     "text": [
      "IOPub message rate exceeded.\n",
      "The Jupyter server will temporarily stop sending output\n",
      "to the client in order to avoid crashing it.\n",
      "To change this limit, set the config variable\n",
      "`--ServerApp.iopub_msg_rate_limit`.\n",
      "\n",
      "Current values:\n",
      "ServerApp.iopub_msg_rate_limit=1000.0 (msgs/sec)\n",
      "ServerApp.rate_limit_window=3.0 (secs)\n",
      "\n"
     ]
    },
    {
     "name": "stdout",
     "output_type": "stream",
     "text": [
      "[====================================--------------] 73.9% 1228.0/1662.8MB downloaded"
     ]
    },
    {
     "name": "stderr",
     "output_type": "stream",
     "text": [
      "IOPub message rate exceeded.\n",
      "The Jupyter server will temporarily stop sending output\n",
      "to the client in order to avoid crashing it.\n",
      "To change this limit, set the config variable\n",
      "`--ServerApp.iopub_msg_rate_limit`.\n",
      "\n",
      "Current values:\n",
      "ServerApp.iopub_msg_rate_limit=1000.0 (msgs/sec)\n",
      "ServerApp.rate_limit_window=3.0 (secs)\n",
      "\n"
     ]
    },
    {
     "name": "stdout",
     "output_type": "stream",
     "text": [
      "[======================================------------] 77.4% 1286.9/1662.8MB downloaded"
     ]
    },
    {
     "name": "stderr",
     "output_type": "stream",
     "text": [
      "IOPub message rate exceeded.\n",
      "The Jupyter server will temporarily stop sending output\n",
      "to the client in order to avoid crashing it.\n",
      "To change this limit, set the config variable\n",
      "`--ServerApp.iopub_msg_rate_limit`.\n",
      "\n",
      "Current values:\n",
      "ServerApp.iopub_msg_rate_limit=1000.0 (msgs/sec)\n",
      "ServerApp.rate_limit_window=3.0 (secs)\n",
      "\n"
     ]
    },
    {
     "name": "stdout",
     "output_type": "stream",
     "text": [
      "[========================================----------] 81.0% 1346.7/1662.8MB downloaded"
     ]
    },
    {
     "name": "stderr",
     "output_type": "stream",
     "text": [
      "IOPub message rate exceeded.\n",
      "The Jupyter server will temporarily stop sending output\n",
      "to the client in order to avoid crashing it.\n",
      "To change this limit, set the config variable\n",
      "`--ServerApp.iopub_msg_rate_limit`.\n",
      "\n",
      "Current values:\n",
      "ServerApp.iopub_msg_rate_limit=1000.0 (msgs/sec)\n",
      "ServerApp.rate_limit_window=3.0 (secs)\n",
      "\n"
     ]
    },
    {
     "name": "stdout",
     "output_type": "stream",
     "text": [
      "[==========================================--------] 84.5% 1405.4/1662.8MB downloaded"
     ]
    },
    {
     "name": "stderr",
     "output_type": "stream",
     "text": [
      "IOPub message rate exceeded.\n",
      "The Jupyter server will temporarily stop sending output\n",
      "to the client in order to avoid crashing it.\n",
      "To change this limit, set the config variable\n",
      "`--ServerApp.iopub_msg_rate_limit`.\n",
      "\n",
      "Current values:\n",
      "ServerApp.iopub_msg_rate_limit=1000.0 (msgs/sec)\n",
      "ServerApp.rate_limit_window=3.0 (secs)\n",
      "\n"
     ]
    },
    {
     "name": "stdout",
     "output_type": "stream",
     "text": [
      "[============================================------] 88.2% 1466.9/1662.8MB downloaded"
     ]
    },
    {
     "name": "stderr",
     "output_type": "stream",
     "text": [
      "IOPub message rate exceeded.\n",
      "The Jupyter server will temporarily stop sending output\n",
      "to the client in order to avoid crashing it.\n",
      "To change this limit, set the config variable\n",
      "`--ServerApp.iopub_msg_rate_limit`.\n",
      "\n",
      "Current values:\n",
      "ServerApp.iopub_msg_rate_limit=1000.0 (msgs/sec)\n",
      "ServerApp.rate_limit_window=3.0 (secs)\n",
      "\n"
     ]
    },
    {
     "name": "stdout",
     "output_type": "stream",
     "text": [
      "[=============================================-----] 92.0% 1529.1/1662.8MB downloaded"
     ]
    },
    {
     "name": "stderr",
     "output_type": "stream",
     "text": [
      "IOPub message rate exceeded.\n",
      "The Jupyter server will temporarily stop sending output\n",
      "to the client in order to avoid crashing it.\n",
      "To change this limit, set the config variable\n",
      "`--ServerApp.iopub_msg_rate_limit`.\n",
      "\n",
      "Current values:\n",
      "ServerApp.iopub_msg_rate_limit=1000.0 (msgs/sec)\n",
      "ServerApp.rate_limit_window=3.0 (secs)\n",
      "\n"
     ]
    },
    {
     "name": "stdout",
     "output_type": "stream",
     "text": [
      "[===============================================---] 95.6% 1589.0/1662.8MB downloaded"
     ]
    },
    {
     "name": "stderr",
     "output_type": "stream",
     "text": [
      "IOPub message rate exceeded.\n",
      "The Jupyter server will temporarily stop sending output\n",
      "to the client in order to avoid crashing it.\n",
      "To change this limit, set the config variable\n",
      "`--ServerApp.iopub_msg_rate_limit`.\n",
      "\n",
      "Current values:\n",
      "ServerApp.iopub_msg_rate_limit=1000.0 (msgs/sec)\n",
      "ServerApp.rate_limit_window=3.0 (secs)\n",
      "\n"
     ]
    },
    {
     "name": "stdout",
     "output_type": "stream",
     "text": [
      "[=================================================-] 98.6% 1639.5/1662.8MB downloaded"
     ]
    },
    {
     "name": "stderr",
     "output_type": "stream",
     "text": [
      "IOPub message rate exceeded.\n",
      "The Jupyter server will temporarily stop sending output\n",
      "to the client in order to avoid crashing it.\n",
      "To change this limit, set the config variable\n",
      "`--ServerApp.iopub_msg_rate_limit`.\n",
      "\n",
      "Current values:\n",
      "ServerApp.iopub_msg_rate_limit=1000.0 (msgs/sec)\n",
      "ServerApp.rate_limit_window=3.0 (secs)\n",
      "\n"
     ]
    },
    {
     "name": "stdout",
     "output_type": "stream",
     "text": [
      "\n"
     ]
    }
   ],
   "source": [
    "import gensim.downloader as api\n",
    "wv = api.load('word2vec-google-news-300')\n"
   ]
  },
  {
   "cell_type": "code",
   "execution_count": 16,
   "id": "b23b7ada-25ae-4ad8-90c7-9fed84f18772",
   "metadata": {},
   "outputs": [
    {
     "name": "stdout",
     "output_type": "stream",
     "text": [
      "word #0/3000000 is </s>\n",
      "word #1/3000000 is in\n",
      "word #2/3000000 is for\n",
      "word #3/3000000 is that\n",
      "word #4/3000000 is is\n",
      "word #5/3000000 is on\n",
      "word #6/3000000 is ##\n",
      "word #7/3000000 is The\n",
      "word #8/3000000 is with\n",
      "word #9/3000000 is said\n"
     ]
    }
   ],
   "source": [
    "for index, word in enumerate(wv.index_to_key):\n",
    "    if index == 10:\n",
    "        break\n",
    "    print(f\"word #{index}/{len(wv.index_to_key)} is {word}\")\n"
   ]
  },
  {
   "cell_type": "code",
   "execution_count": 23,
   "id": "093c5035-ca3a-4839-ab88-8d4bf7bdb307",
   "metadata": {},
   "outputs": [
    {
     "data": {
      "text/plain": [
       "(300,)"
      ]
     },
     "execution_count": 23,
     "metadata": {},
     "output_type": "execute_result"
    }
   ],
   "source": [
    "wv['king'].shape"
   ]
  },
  {
   "cell_type": "code",
   "execution_count": 24,
   "id": "9813276a-fc45-4ee9-9368-4e7bd619435b",
   "metadata": {},
   "outputs": [
    {
     "data": {
      "text/plain": [
       "array([-1.57470703e-02, -2.83203125e-02,  8.34960938e-02,  5.02929688e-02,\n",
       "       -1.10351562e-01,  3.17382812e-02, -1.42211914e-02, -8.98437500e-02,\n",
       "        1.17675781e-01,  1.18164062e-01, -7.17773438e-02, -7.71484375e-02,\n",
       "       -6.88476562e-02,  7.71484375e-02, -1.38671875e-01,  6.50024414e-03,\n",
       "        1.09863281e-02, -1.51367188e-02, -9.61303711e-04, -3.02734375e-02,\n",
       "       -1.58309937e-04,  3.83300781e-02, -2.41699219e-02, -4.58984375e-02,\n",
       "        9.47265625e-02, -5.51757812e-02, -6.49414062e-02,  6.10351562e-03,\n",
       "        8.54492188e-04,  6.20117188e-02, -5.44433594e-02,  1.40991211e-02,\n",
       "        2.22167969e-02, -4.49218750e-02,  1.11328125e-01, -3.85742188e-02,\n",
       "        5.12695312e-02,  2.51464844e-02,  1.69677734e-02,  6.29882812e-02,\n",
       "        1.37695312e-01,  1.35742188e-01,  6.54296875e-02, -6.44531250e-02,\n",
       "       -2.40478516e-02, -1.33666992e-02, -3.71093750e-02,  4.30297852e-03,\n",
       "       -1.57470703e-02,  1.90429688e-02,  1.08398438e-01,  4.46777344e-02,\n",
       "       -4.49218750e-02, -9.52148438e-02,  8.69140625e-02,  8.20312500e-02,\n",
       "        6.83593750e-03, -1.31835938e-01,  2.73132324e-03, -7.56835938e-02,\n",
       "        2.24609375e-02,  1.71875000e-01, -4.85839844e-02,  3.83300781e-02,\n",
       "       -8.83789062e-02, -1.72119141e-02,  2.18505859e-02,  1.33789062e-01,\n",
       "        1.06811523e-02,  4.98046875e-02,  3.80859375e-02, -5.24902344e-03,\n",
       "        6.12792969e-02, -5.00488281e-02, -1.05957031e-01,  5.56640625e-02,\n",
       "        1.54296875e-01,  1.70898438e-01,  4.80957031e-02,  1.26953125e-01,\n",
       "        8.15429688e-02, -1.01562500e-01,  4.39453125e-02, -1.35498047e-02,\n",
       "       -1.33789062e-01, -1.57226562e-01,  2.42919922e-02,  2.08984375e-01,\n",
       "       -1.02050781e-01, -9.37500000e-02,  4.85839844e-02,  7.51953125e-02,\n",
       "        3.52478027e-03, -1.23535156e-01, -2.41699219e-02, -1.31988525e-03,\n",
       "        3.83300781e-02,  7.59887695e-03,  1.77001953e-02,  4.37011719e-02,\n",
       "       -9.81445312e-02, -5.81054688e-02,  1.40991211e-02,  4.10156250e-02,\n",
       "       -3.54003906e-02, -2.29492188e-02, -1.30859375e-01, -1.44531250e-01,\n",
       "        2.89306641e-02, -1.22558594e-01, -7.12890625e-02, -7.14111328e-03,\n",
       "       -9.66796875e-02,  5.85937500e-02,  1.04003906e-01,  2.63671875e-02,\n",
       "        7.56835938e-03,  3.61328125e-02,  4.02832031e-02,  5.27343750e-02,\n",
       "       -2.04101562e-01, -3.34472656e-02, -2.90527344e-02,  3.17382812e-02,\n",
       "       -1.23535156e-01, -6.73828125e-02,  1.58691406e-02, -8.64257812e-02,\n",
       "        1.25122070e-02, -6.29882812e-02, -1.20605469e-01,  2.34375000e-02,\n",
       "       -1.31835938e-01, -1.18164062e-01, -1.21459961e-02, -1.09863281e-01,\n",
       "        9.52148438e-02, -4.19921875e-02,  1.83105469e-02,  5.17578125e-02,\n",
       "        1.49536133e-02, -1.59179688e-01, -2.17285156e-02, -5.12695312e-03,\n",
       "        3.58886719e-02, -3.03649902e-03, -7.81250000e-02, -5.12695312e-02,\n",
       "       -7.41577148e-03,  8.74023438e-02, -2.39257812e-02,  4.41894531e-02,\n",
       "       -1.13769531e-01,  2.14843750e-02, -3.82995605e-03, -4.34570312e-02,\n",
       "       -1.04003906e-01, -1.85546875e-01, -4.49218750e-02,  4.49218750e-02,\n",
       "       -4.44335938e-02,  1.90429688e-02, -2.09960938e-02,  1.34887695e-02,\n",
       "        1.52587891e-02, -3.03955078e-02,  4.66308594e-02,  1.02539062e-01,\n",
       "       -1.38549805e-02,  8.23974609e-03, -5.27343750e-02,  1.96533203e-02,\n",
       "       -7.61718750e-02, -8.98437500e-02,  4.39453125e-02,  7.93457031e-03,\n",
       "        1.26342773e-02, -1.08398438e-01, -1.85546875e-02, -1.04492188e-01,\n",
       "       -1.52343750e-01, -7.91015625e-02, -2.88085938e-02, -1.86767578e-02,\n",
       "        9.71679688e-02, -8.36181641e-03, -3.54003906e-02,  7.53784180e-03,\n",
       "        5.81054688e-02,  8.20312500e-02,  2.88085938e-02,  5.10253906e-02,\n",
       "        3.17382812e-03, -1.85546875e-02,  1.49536133e-02, -7.27539062e-02,\n",
       "       -3.41796875e-02,  4.39453125e-02, -4.88281250e-02, -1.61132812e-01,\n",
       "        2.56347656e-02,  3.66210938e-02, -1.53541565e-04, -1.25885010e-03,\n",
       "       -3.97949219e-02, -3.22265625e-02, -1.57470703e-02,  6.07910156e-02,\n",
       "        9.71679688e-02, -1.50146484e-02, -3.36914062e-02, -1.53198242e-02,\n",
       "        4.66918945e-03,  3.29589844e-02, -8.20312500e-02,  1.06445312e-01,\n",
       "        1.54296875e-01,  8.78906250e-03, -1.20117188e-01,  6.12792969e-02,\n",
       "        5.85937500e-02,  3.88183594e-02, -1.59912109e-02, -4.39453125e-02,\n",
       "        1.20117188e-01, -7.51953125e-02,  1.25000000e-01,  3.51562500e-02,\n",
       "        7.27539062e-02,  8.74023438e-02,  2.11181641e-02, -7.37304688e-02,\n",
       "        3.44238281e-02, -9.42382812e-02,  1.15966797e-02, -5.71289062e-02,\n",
       "       -7.86132812e-02,  1.59912109e-02,  7.56835938e-02,  3.05175781e-02,\n",
       "        4.60815430e-03, -1.45507812e-01, -2.47802734e-02, -1.07910156e-01,\n",
       "        6.88476562e-02,  5.81054688e-02,  1.25000000e-01, -6.54296875e-02,\n",
       "        5.27954102e-03,  1.18408203e-02,  6.98242188e-02,  1.26953125e-01,\n",
       "        6.54296875e-02, -1.73339844e-02,  1.19140625e-01, -3.24707031e-02,\n",
       "        1.44531250e-01,  7.66601562e-02, -3.22265625e-02, -6.59179688e-02,\n",
       "        6.29882812e-02, -6.25000000e-02, -9.61914062e-02,  1.06445312e-01,\n",
       "       -3.97949219e-02,  1.16210938e-01, -9.70458984e-03, -3.54003906e-02,\n",
       "       -6.54296875e-02,  5.88378906e-02,  1.62109375e-01,  5.12695312e-02,\n",
       "        1.59179688e-01,  9.52148438e-02,  7.61718750e-02, -9.17968750e-02,\n",
       "        2.51464844e-02, -7.86132812e-02,  8.93554688e-02, -5.85937500e-02,\n",
       "       -4.00390625e-02,  4.58984375e-02,  3.10058594e-02,  3.90625000e-02,\n",
       "        3.56445312e-02, -1.05957031e-01, -3.71093750e-02, -1.61132812e-01,\n",
       "        2.13623047e-02,  1.22070312e-03, -1.12915039e-02, -1.56250000e-02,\n",
       "       -3.34472656e-02, -2.06298828e-02, -1.94091797e-02,  6.39648438e-02,\n",
       "        2.01416016e-02,  6.86645508e-03,  6.10351562e-02, -1.48437500e-01],\n",
       "      dtype=float32)"
      ]
     },
     "execution_count": 24,
     "metadata": {},
     "output_type": "execute_result"
    }
   ],
   "source": [
    "wv['that']"
   ]
  },
  {
   "cell_type": "code",
   "execution_count": null,
   "id": "5fb12421-deff-49de-a632-49607fda8b78",
   "metadata": {},
   "outputs": [],
   "source": []
  },
  {
   "cell_type": "code",
   "execution_count": null,
   "id": "85fd688f-3109-494d-a8a3-dd2154ee2e9c",
   "metadata": {},
   "outputs": [],
   "source": [
    "a"
   ]
  }
 ],
 "metadata": {
  "kernelspec": {
   "display_name": "Python 3 (ipykernel)",
   "language": "python",
   "name": "python3"
  },
  "language_info": {
   "codemirror_mode": {
    "name": "ipython",
    "version": 3
   },
   "file_extension": ".py",
   "mimetype": "text/x-python",
   "name": "python",
   "nbconvert_exporter": "python",
   "pygments_lexer": "ipython3",
   "version": "3.10.16"
  }
 },
 "nbformat": 4,
 "nbformat_minor": 5
}
