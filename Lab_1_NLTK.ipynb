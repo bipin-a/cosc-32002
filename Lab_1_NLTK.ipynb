{
 "cells": [
  {
   "cell_type": "markdown",
   "metadata": {},
   "source": [
    "Elise\n",
    "Will\n",
    "Ozair\n",
    "Siddharth \n",
    "Naimul\n",
    "Nguyen, Hoang Anh\n",
    "Armaan \n",
    "Noah -\n",
    "Kyle -\n",
    "Jeffrey -\n",
    "Chris -\n",
    "\n",
    "open up quizzes \n",
    "\n",
    "Midterm Will Be Open"
   ]
  },
  {
   "cell_type": "code",
   "execution_count": null,
   "metadata": {},
   "outputs": [],
   "source": []
  },
  {
   "cell_type": "code",
   "execution_count": null,
   "metadata": {},
   "outputs": [],
   "source": []
  },
  {
   "cell_type": "code",
   "execution_count": null,
   "metadata": {},
   "outputs": [],
   "source": []
  },
  {
   "cell_type": "markdown",
   "metadata": {
    "id": "t3noOpUp1lJI"
   },
   "source": [
    "# Basic Text Processing with NLTK Tutorial\n",
    "**Uzair Ahmad**\n",
    "\n",
    "In this tutorial, we will explore basic text processing using the Natural Language Toolkit (NLTK) in Python. We will cover searching in text, counting vocabulary, and basic text statistics.\n",
    "\n",
    "**Note:** Before proceeding, make sure you have NLTK installed (`pip install nltk`) and download the necessary resources using `nltk.download('book')`."
   ]
  },
  {
   "cell_type": "code",
   "execution_count": 6,
   "metadata": {
    "id": "o2Xpiqtc13Zs",
    "scrolled": true
   },
   "outputs": [
    {
     "name": "stderr",
     "output_type": "stream",
     "text": [
      "[nltk_data] Downloading collection 'book'\n",
      "[nltk_data]    | \n",
      "[nltk_data]    | Downloading package abc to\n",
      "[nltk_data]    |     /Users/aasibipin/nltk_data...\n",
      "[nltk_data]    |   Package abc is already up-to-date!\n",
      "[nltk_data]    | Downloading package brown to\n",
      "[nltk_data]    |     /Users/aasibipin/nltk_data...\n",
      "[nltk_data]    |   Package brown is already up-to-date!\n",
      "[nltk_data]    | Downloading package chat80 to\n",
      "[nltk_data]    |     /Users/aasibipin/nltk_data...\n",
      "[nltk_data]    |   Package chat80 is already up-to-date!\n",
      "[nltk_data]    | Downloading package cmudict to\n",
      "[nltk_data]    |     /Users/aasibipin/nltk_data...\n",
      "[nltk_data]    |   Package cmudict is already up-to-date!\n",
      "[nltk_data]    | Downloading package conll2000 to\n",
      "[nltk_data]    |     /Users/aasibipin/nltk_data...\n",
      "[nltk_data]    |   Package conll2000 is already up-to-date!\n",
      "[nltk_data]    | Downloading package conll2002 to\n",
      "[nltk_data]    |     /Users/aasibipin/nltk_data...\n",
      "[nltk_data]    |   Package conll2002 is already up-to-date!\n",
      "[nltk_data]    | Downloading package dependency_treebank to\n",
      "[nltk_data]    |     /Users/aasibipin/nltk_data...\n",
      "[nltk_data]    |   Package dependency_treebank is already up-to-date!\n",
      "[nltk_data]    | Downloading package genesis to\n",
      "[nltk_data]    |     /Users/aasibipin/nltk_data...\n",
      "[nltk_data]    |   Package genesis is already up-to-date!\n",
      "[nltk_data]    | Downloading package gutenberg to\n",
      "[nltk_data]    |     /Users/aasibipin/nltk_data...\n",
      "[nltk_data]    |   Package gutenberg is already up-to-date!\n",
      "[nltk_data]    | Downloading package ieer to\n",
      "[nltk_data]    |     /Users/aasibipin/nltk_data...\n",
      "[nltk_data]    |   Package ieer is already up-to-date!\n",
      "[nltk_data]    | Downloading package inaugural to\n",
      "[nltk_data]    |     /Users/aasibipin/nltk_data...\n",
      "[nltk_data]    |   Package inaugural is already up-to-date!\n",
      "[nltk_data]    | Downloading package movie_reviews to\n",
      "[nltk_data]    |     /Users/aasibipin/nltk_data...\n",
      "[nltk_data]    |   Package movie_reviews is already up-to-date!\n",
      "[nltk_data]    | Downloading package nps_chat to\n",
      "[nltk_data]    |     /Users/aasibipin/nltk_data...\n",
      "[nltk_data]    |   Package nps_chat is already up-to-date!\n",
      "[nltk_data]    | Downloading package names to\n",
      "[nltk_data]    |     /Users/aasibipin/nltk_data...\n",
      "[nltk_data]    |   Package names is already up-to-date!\n",
      "[nltk_data]    | Downloading package ppattach to\n",
      "[nltk_data]    |     /Users/aasibipin/nltk_data...\n",
      "[nltk_data]    |   Package ppattach is already up-to-date!\n",
      "[nltk_data]    | Downloading package reuters to\n",
      "[nltk_data]    |     /Users/aasibipin/nltk_data...\n",
      "[nltk_data]    |   Package reuters is already up-to-date!\n",
      "[nltk_data]    | Downloading package senseval to\n",
      "[nltk_data]    |     /Users/aasibipin/nltk_data...\n",
      "[nltk_data]    |   Package senseval is already up-to-date!\n",
      "[nltk_data]    | Downloading package state_union to\n",
      "[nltk_data]    |     /Users/aasibipin/nltk_data...\n",
      "[nltk_data]    |   Package state_union is already up-to-date!\n",
      "[nltk_data]    | Downloading package stopwords to\n",
      "[nltk_data]    |     /Users/aasibipin/nltk_data...\n",
      "[nltk_data]    |   Package stopwords is already up-to-date!\n",
      "[nltk_data]    | Downloading package swadesh to\n",
      "[nltk_data]    |     /Users/aasibipin/nltk_data...\n",
      "[nltk_data]    |   Package swadesh is already up-to-date!\n",
      "[nltk_data]    | Downloading package timit to\n",
      "[nltk_data]    |     /Users/aasibipin/nltk_data...\n",
      "[nltk_data]    |   Package timit is already up-to-date!\n",
      "[nltk_data]    | Downloading package treebank to\n",
      "[nltk_data]    |     /Users/aasibipin/nltk_data...\n",
      "[nltk_data]    |   Package treebank is already up-to-date!\n",
      "[nltk_data]    | Downloading package toolbox to\n",
      "[nltk_data]    |     /Users/aasibipin/nltk_data...\n",
      "[nltk_data]    |   Package toolbox is already up-to-date!\n",
      "[nltk_data]    | Downloading package udhr to\n",
      "[nltk_data]    |     /Users/aasibipin/nltk_data...\n",
      "[nltk_data]    |   Package udhr is already up-to-date!\n",
      "[nltk_data]    | Downloading package udhr2 to\n",
      "[nltk_data]    |     /Users/aasibipin/nltk_data...\n",
      "[nltk_data]    |   Package udhr2 is already up-to-date!\n",
      "[nltk_data]    | Downloading package unicode_samples to\n",
      "[nltk_data]    |     /Users/aasibipin/nltk_data...\n",
      "[nltk_data]    |   Package unicode_samples is already up-to-date!\n",
      "[nltk_data]    | Downloading package webtext to\n",
      "[nltk_data]    |     /Users/aasibipin/nltk_data...\n",
      "[nltk_data]    |   Package webtext is already up-to-date!\n",
      "[nltk_data]    | Downloading package wordnet to\n",
      "[nltk_data]    |     /Users/aasibipin/nltk_data...\n",
      "[nltk_data]    |   Package wordnet is already up-to-date!\n",
      "[nltk_data]    | Downloading package wordnet_ic to\n",
      "[nltk_data]    |     /Users/aasibipin/nltk_data...\n",
      "[nltk_data]    |   Package wordnet_ic is already up-to-date!\n",
      "[nltk_data]    | Downloading package words to\n",
      "[nltk_data]    |     /Users/aasibipin/nltk_data...\n",
      "[nltk_data]    |   Package words is already up-to-date!\n",
      "[nltk_data]    | Downloading package maxent_treebank_pos_tagger to\n",
      "[nltk_data]    |     /Users/aasibipin/nltk_data...\n",
      "[nltk_data]    |   Package maxent_treebank_pos_tagger is already up-\n",
      "[nltk_data]    |       to-date!\n",
      "[nltk_data]    | Downloading package maxent_ne_chunker to\n",
      "[nltk_data]    |     /Users/aasibipin/nltk_data...\n",
      "[nltk_data]    |   Package maxent_ne_chunker is already up-to-date!\n",
      "[nltk_data]    | Downloading package universal_tagset to\n",
      "[nltk_data]    |     /Users/aasibipin/nltk_data...\n",
      "[nltk_data]    |   Package universal_tagset is already up-to-date!\n",
      "[nltk_data]    | Downloading package punkt to\n",
      "[nltk_data]    |     /Users/aasibipin/nltk_data...\n",
      "[nltk_data]    |   Package punkt is already up-to-date!\n",
      "[nltk_data]    | Downloading package book_grammars to\n",
      "[nltk_data]    |     /Users/aasibipin/nltk_data...\n",
      "[nltk_data]    |   Package book_grammars is already up-to-date!\n",
      "[nltk_data]    | Downloading package city_database to\n",
      "[nltk_data]    |     /Users/aasibipin/nltk_data...\n",
      "[nltk_data]    |   Package city_database is already up-to-date!\n",
      "[nltk_data]    | Downloading package tagsets to\n",
      "[nltk_data]    |     /Users/aasibipin/nltk_data...\n",
      "[nltk_data]    |   Package tagsets is already up-to-date!\n",
      "[nltk_data]    | Downloading package panlex_swadesh to\n",
      "[nltk_data]    |     /Users/aasibipin/nltk_data...\n",
      "[nltk_data]    |   Package panlex_swadesh is already up-to-date!\n",
      "[nltk_data]    | Downloading package averaged_perceptron_tagger to\n",
      "[nltk_data]    |     /Users/aasibipin/nltk_data...\n",
      "[nltk_data]    |   Package averaged_perceptron_tagger is already up-\n",
      "[nltk_data]    |       to-date!\n",
      "[nltk_data]    | \n",
      "[nltk_data]  Done downloading collection book\n"
     ]
    },
    {
     "data": {
      "text/plain": [
       "True"
      ]
     },
     "execution_count": 6,
     "metadata": {},
     "output_type": "execute_result"
    }
   ],
   "source": [
    "import nltk\n",
    "nltk.download('book')"
   ]
  },
  {
   "cell_type": "code",
   "execution_count": null,
   "metadata": {},
   "outputs": [],
   "source": [
    "! uv sync"
   ]
  },
  {
   "cell_type": "code",
   "execution_count": null,
   "metadata": {},
   "outputs": [],
   "source": []
  },
  {
   "cell_type": "code",
   "execution_count": 7,
   "metadata": {
    "id": "vQh741DP18sc"
   },
   "outputs": [],
   "source": [
    "from nltk.book import *"
   ]
  },
  {
   "cell_type": "code",
   "execution_count": 30,
   "metadata": {},
   "outputs": [
    {
     "name": "stdout",
     "output_type": "stream",
     "text": [
      "SOLDIER # 1 : Until you come and get a bit . # 2 : Hic ! ARTHUR : How\n",
      "can we come up and have a plan , sir . roar ] MAYNARD : Armaments ,\n",
      "Chapter Two , verses Nine to Twenty - one . Heh . DINGO : Yes , yes ,\n",
      "you ain ' t . , great . Ni ! who , when he seemed about to recover ,\n",
      "suddenly felt the icy hand of death upon him . No SCENE 19 : ARTHUR :\n",
      "Walk away . squeak ] [ howl ] [ creak\n"
     ]
    },
    {
     "data": {
      "text/plain": [
       "\"SOLDIER # 1 : Until you come and get a bit . # 2 : Hic ! ARTHUR : How\\ncan we come up and have a plan , sir . roar ] MAYNARD : Armaments ,\\nChapter Two , verses Nine to Twenty - one . Heh . DINGO : Yes , yes ,\\nyou ain ' t . , great . Ni ! who , when he seemed about to recover ,\\nsuddenly felt the icy hand of death upon him . No SCENE 19 : ARTHUR :\\nWalk away . squeak ] [ howl ] [ creak\""
      ]
     },
     "execution_count": 30,
     "metadata": {},
     "output_type": "execute_result"
    }
   ],
   "source": [
    "# Print random text, generated using a trigram language model.\n",
    "text6.generate()"
   ]
  },
  {
   "cell_type": "code",
   "execution_count": null,
   "metadata": {},
   "outputs": [],
   "source": []
  },
  {
   "cell_type": "code",
   "execution_count": null,
   "metadata": {},
   "outputs": [],
   "source": []
  },
  {
   "cell_type": "markdown",
   "metadata": {
    "id": "yTNXnkZZ3ZCk"
   },
   "source": [
    "## Searching in Text\n",
    "\n",
    "### Concordance, Similar, and Common Context Functions\n",
    "\n",
    "To search for specific words and explore their context within a text, NLTK provides several useful functions.\n",
    "\n",
    "- The `concordance` function shows every occurrence of a given word along with its context in the text.\n"
   ]
  },
  {
   "cell_type": "code",
   "execution_count": 31,
   "metadata": {},
   "outputs": [
    {
     "data": {
      "text/plain": [
       "\u001b[0;31mSignature:\u001b[0m \u001b[0mtext7\u001b[0m\u001b[0;34m.\u001b[0m\u001b[0mconcordance\u001b[0m\u001b[0;34m(\u001b[0m\u001b[0mword\u001b[0m\u001b[0;34m,\u001b[0m \u001b[0mwidth\u001b[0m\u001b[0;34m=\u001b[0m\u001b[0;36m79\u001b[0m\u001b[0;34m,\u001b[0m \u001b[0mlines\u001b[0m\u001b[0;34m=\u001b[0m\u001b[0;36m25\u001b[0m\u001b[0;34m)\u001b[0m\u001b[0;34m\u001b[0m\u001b[0;34m\u001b[0m\u001b[0m\n",
       "\u001b[0;31mDocstring:\u001b[0m\n",
       "Prints a concordance for ``word`` with the specified context window.\n",
       "Word matching is not case-sensitive.\n",
       "\n",
       ":param word: The target word or phrase (a list of strings)\n",
       ":type word: str or list\n",
       ":param width: The width of each line, in characters (default=80)\n",
       ":type width: int\n",
       ":param lines: The number of lines to display (default=25)\n",
       ":type lines: int\n",
       "\n",
       ":seealso: ``ConcordanceIndex``\n",
       "\u001b[0;31mFile:\u001b[0m      ~/cosc-32002/.venv/lib/python3.13/site-packages/nltk/text.py\n",
       "\u001b[0;31mType:\u001b[0m      method"
      ]
     },
     "metadata": {},
     "output_type": "display_data"
    }
   ],
   "source": [
    "text7.concordance?"
   ]
  },
  {
   "cell_type": "code",
   "execution_count": 33,
   "metadata": {
    "colab": {
     "base_uri": "https://localhost:8080/"
    },
    "id": "hw3S7lQc3bWq",
    "outputId": "96657816-3303-4681-c9e5-026f3e288568"
   },
   "outputs": [
    {
     "name": "stdout",
     "output_type": "stream",
     "text": [
      "Displaying -1 of 35 matches:\n",
      "r 's 500 stock-index futures pit once S&P 500 futures fell 20 index points -- t\n",
      " well *T*-1 . Late that afternoon the S&P 500 stock-index futures contract fell\n",
      "xisting 30-minute , 12-point limit on S&P 500 stock-index futures trading -LRB-\n",
      "ome the maximum one-day limit for the S&P 500 stock-index futures contract ; th\n",
      "h slower growth the year before . The S&P index started *-1 sliding in price in\n",
      "ket watchers anxious . Payouts on the S&P 500 stocks rose 10 % in 1988 , accord\n",
      "ing a close watch on the yield on the S&P 500 . The figure is currently about 3\n",
      "ock-market data . The last time 0 the S&P 500 yield dropped below 3 % *T*-1 was\n",
      "971 and 1972 -- when the yield on the S&P 500 dropped below 3 % for at least tw\n",
      "r instance , is forecasting growth in S&P 500 dividends of just under 5 % in 19\n",
      "cally unchanged from 138 a year ago , S&P said 0 *T*-2 Wednesday . That followe\n",
      "e year-earlier pace *T*-1 . While the S&P tally does n't measure the magnitude \n",
      "turns of standard benchmarks like the S&P Not surprisingly , old-style money ma\n",
      " juggle portfolios so they mirror the S&P 500 . The indexers charge only a few \n",
      " who *T*-71 buy all 500 stocks in the S&P 500 often do n't even know what the c\n",
      "n index arbitrage , the widget is the S&P 500 , and its price is constantly com\n",
      "rtunity , someone who *T*-75 owns the S&P 500 widget in New York must sell it a\n",
      "sell it and replace it with a cheaper S&P 500 widget in Chicago . If the money \n",
      "78 to match or beat the return of the S&P 500 index , he is likely *-1 to remai\n",
      "d 3 % *U* to the annual return of the S&P 500 . That represents a very thin `` \n",
      "t money managers fail *-1 to beat the S&P 500 may contribute to the hysteria su\n",
      "actual stocks that *T*-76 make up the S&P 500 is more cumbersome than * transac\n",
      "in prices between the two markets for S&P 500 stocks -- usually it is large inv\n",
      ". The bonds are rated *-1 single-A by S&P , according to the lead underwriter .\n",
      " Jeffrey Bowman , a vice president at S&P , which *T*-1 raised a warning flag f\n",
      " rating factor . '' Both Moody 's and S&P cited First Boston 's reliance in rec\n",
      "capital , '' says *T*-1 Mr. Bowman of S&P . A Shearson spokesman said 0 the fir\n",
      "ar '' is put *-1 into effect when the S&P futures rise or fall 12 points *T*-2 \n",
      " On the Chicago Mercantile Exchange , S&P 500 futures are not allowed *-1 to fa\n",
      "If , when trading resumes *T*-1 , the S&P futures fall 30 points from the previ\n",
      "ad stock-market barometer such as the S&P 500 . Many institutional index funds \n",
      "hicago Board of Trade -RRB- ; and the S&P 100 options -LRB- traded * on the Chi\n",
      "d * on 100 stocks selected * from the S&P 500 -RRB- . Stock-index options -- Op\n",
      "or example , there are options on the S&P 500 futures contract and on the S&P 1\n"
     ]
    }
   ],
   "source": [
    "# Displaying the concordance of a word in text7\n",
    "text7.concordance('S&P', lines=-1)"
   ]
  },
  {
   "cell_type": "code",
   "execution_count": null,
   "metadata": {},
   "outputs": [],
   "source": []
  },
  {
   "cell_type": "markdown",
   "metadata": {
    "id": "c_YpgbWH4Ruz"
   },
   "source": [
    "- The `similar` function finds words in the text that appear in similar contexts to the specified word.\n"
   ]
  },
  {
   "cell_type": "code",
   "execution_count": 34,
   "metadata": {},
   "outputs": [
    {
     "data": {
      "text/plain": [
       "\u001b[0;31mSignature:\u001b[0m \u001b[0mtext7\u001b[0m\u001b[0;34m.\u001b[0m\u001b[0msimilar\u001b[0m\u001b[0;34m(\u001b[0m\u001b[0mword\u001b[0m\u001b[0;34m,\u001b[0m \u001b[0mnum\u001b[0m\u001b[0;34m=\u001b[0m\u001b[0;36m20\u001b[0m\u001b[0;34m)\u001b[0m\u001b[0;34m\u001b[0m\u001b[0;34m\u001b[0m\u001b[0m\n",
       "\u001b[0;31mDocstring:\u001b[0m\n",
       "Distributional similarity: find other words which appear in the\n",
       "same contexts as the specified word; list most similar words first.\n",
       "\n",
       ":param word: The word used to seed the similarity search\n",
       ":type word: str\n",
       ":param num: The number of words to generate (default=20)\n",
       ":type num: int\n",
       ":seealso: ContextIndex.similar_words()\n",
       "\u001b[0;31mFile:\u001b[0m      ~/cosc-32002/.venv/lib/python3.13/site-packages/nltk/text.py\n",
       "\u001b[0;31mType:\u001b[0m      method"
      ]
     },
     "metadata": {},
     "output_type": "display_data"
    }
   ],
   "source": [
    "text7.similar?"
   ]
  },
  {
   "cell_type": "code",
   "execution_count": null,
   "metadata": {},
   "outputs": [],
   "source": []
  },
  {
   "cell_type": "code",
   "execution_count": 35,
   "metadata": {
    "colab": {
     "base_uri": "https://localhost:8080/"
    },
    "id": "ua6j-oQi4Qfi",
    "outputId": "cbcfcfa0-fda5-4299-deab-084227180029"
   },
   "outputs": [
    {
     "name": "stdout",
     "output_type": "stream",
     "text": [
      "it institute billion government issue drop purchase stock chain order\n",
      "amount case stocks strength language the board chairman fields form\n"
     ]
    }
   ],
   "source": [
    "# Finding similar words in text7\n",
    "text7.similar('growth')"
   ]
  },
  {
   "cell_type": "code",
   "execution_count": null,
   "metadata": {},
   "outputs": [],
   "source": []
  },
  {
   "cell_type": "code",
   "execution_count": 36,
   "metadata": {
    "colab": {
     "base_uri": "https://localhost:8080/"
    },
    "id": "xM8bcB2B4pVw",
    "outputId": "a29aa347-b1c2-4695-9559-742a1e0ac032"
   },
   "outputs": [
    {
     "name": "stdout",
     "output_type": "stream",
     "text": [
      "peace people government respect faith freedom country duty will\n",
      "influence union prosperity right honor independence war support wisdom\n",
      "labor conscience\n"
     ]
    }
   ],
   "source": [
    "text4.similar('growth')"
   ]
  },
  {
   "cell_type": "code",
   "execution_count": null,
   "metadata": {},
   "outputs": [],
   "source": []
  },
  {
   "cell_type": "markdown",
   "metadata": {
    "id": "cQOUj5-c6aDl"
   },
   "source": [
    "- The ```dispersion_plot``` function generates a plot showing the location of words in the text."
   ]
  },
  {
   "cell_type": "code",
   "execution_count": 38,
   "metadata": {
    "colab": {
     "base_uri": "https://localhost:8080/",
     "height": 472
    },
    "id": "P36Ad6mY52WE",
    "outputId": "4a96dda5-e31f-4b28-96a6-1fa463f19b4c"
   },
   "outputs": [
    {
     "data": {
      "image/png": "[encoded data removed]",
      "text/plain": [
       "<Figure size 640x480 with 1 Axes>"
      ]
     },
     "metadata": {},
     "output_type": "display_data"
    }
   ],
   "source": [
    "# Dispersion plot of words in a text\n",
    "text7.dispersion_plot(['S&P', 'index', 'price'])"
   ]
  },
  {
   "cell_type": "code",
   "execution_count": null,
   "metadata": {},
   "outputs": [],
   "source": []
  },
  {
   "cell_type": "markdown",
   "metadata": {
    "id": "0dcZ0QXe-8Ve"
   },
   "source": [
    "## Collocations"
   ]
  },
  {
   "cell_type": "markdown",
   "metadata": {
    "id": "c3OWox6F_QGF"
   },
   "source": [
    "Working with collocations in NLTK involves identifying pairs or groups of words that often occur together. Collocations can provide valuable insights into the common patterns and associations within a given text. NLTK provides a module called nltk.collocations to work with collocations.\n",
    "\n",
    "Here's a basic guide on how to work with collocations in NLTK:"
   ]
  },
  {
   "cell_type": "code",
   "execution_count": 39,
   "metadata": {
    "id": "kwrUfQmv--yR"
   },
   "outputs": [],
   "source": [
    "from nltk import collocations"
   ]
  },
  {
   "cell_type": "markdown",
   "metadata": {
    "id": "JRcyE3k6_DQ1"
   },
   "source": [
    "**Create a Bigram Finder:**\n",
    "Use BigramCollocationFinder to find bigrams (pairs of adjacent words) in the text."
   ]
  },
  {
   "cell_type": "code",
   "execution_count": 40,
   "metadata": {
    "id": "IsY1u5tT_EXA"
   },
   "outputs": [],
   "source": [
    "bigram_finder = collocations.BigramCollocationFinder.from_words(text7)"
   ]
  },
  {
   "cell_type": "markdown",
   "metadata": {
    "id": "W39_1Gad_MOA"
   },
   "source": [
    "**Set Scoring Method:**\n",
    "Choose a scoring method to identify collocations. One common scoring method is pmi (Pointwise Mutual Information)."
   ]
  },
  {
   "cell_type": "code",
   "execution_count": 49,
   "metadata": {},
   "outputs": [],
   "source": [
    "bigram_finder.apply_freq_filter(5)  # Adjust the frequency filter as needed"
   ]
  },
  {
   "cell_type": "code",
   "execution_count": 52,
   "metadata": {},
   "outputs": [],
   "source": [
    "bigram_measures = collocations.BigramAssocMeasures()"
   ]
  },
  {
   "cell_type": "code",
   "execution_count": 53,
   "metadata": {
    "id": "DNVliqHN_Zfl"
   },
   "outputs": [],
   "source": [
    "# Magic Line \n",
    "scored_bigrams = bigram_finder.score_ngrams(bigram_measures.pmi)"
   ]
  },
  {
   "cell_type": "code",
   "execution_count": 54,
   "metadata": {
    "scrolled": true
   },
   "outputs": [
    {
     "data": {
      "text/plain": [
       "[(('Burnham', 'Lambert'), 14.29743218198336),\n",
       " (('Merrill', 'Lynch'), 14.29743218198336),\n",
       " (('Tony', 'Lama'), 14.29743218198336),\n",
       " (('Lehman', 'Hutton'), 14.034397776149568),\n",
       " (('Hong', 'Kong'), 13.81200535481312),\n",
       " (('circuit', 'breaker'), 13.81200535481312),\n",
       " (('denying', 'wrongdoing'), 13.81200535481312),\n",
       " (('Morgan', 'Stanley'), 13.589612933476673),\n",
       " (('POP', 'Radio'), 13.449435275428412),\n",
       " (('Heritage', 'Media'), 13.29743218198336),\n",
       " (('Learning', 'Materials'), 13.29743218198336),\n",
       " (('Mississippi', 'River'), 13.159928658233426),\n",
       " (('Industrial', 'Average'), 13.075039760646913),\n",
       " (('Supreme', 'Court'), 13.034397776149566),\n",
       " (('Los', 'Angeles'), 12.918920558729631),\n",
       " (('Drexel', 'Burnham'), 12.91892055872963),\n",
       " (('Old', 'Guard'), 12.882394682704518),\n",
       " (('General', 'Motors'), 12.812005354813117),\n",
       " (('Waertsilae', 'Marine'), 12.74489115895458),\n",
       " (('Shearson', 'Lehman'), 12.619360276870724),\n",
       " (('current-carrying', 'capacity'), 12.619360276870724),\n",
       " (('Sea', 'Containers'), 12.619360276870722),\n",
       " (('loan', 'guarantees'), 12.619360276870722),\n",
       " (('fetal-tissue', 'transplants'), 12.60143836887346),\n",
       " (('San', 'Francisco'), 12.371432763427139),\n",
       " (('interstate', 'banking'), 12.371432763427139),\n",
       " (('United', 'States'), 12.371432763427137),\n",
       " (('Judge', 'Curry'), 12.29743218198336),\n",
       " (('St.', 'Louis'), 12.253038062624906),\n",
       " (('Scoring', 'High'), 12.227042854091964),\n",
       " (('Federal', 'Reserve'), 12.227042854091962),\n",
       " (('heating', 'oil'), 12.227042854091962),\n",
       " (('Dow', 'Jones'), 12.223431600539582),\n",
       " (('real', 'estate'), 12.186400869594616),\n",
       " (('Article', 'II'), 12.159928658233424),\n",
       " (('Commonwealth', 'Edison'), 12.120127650175453),\n",
       " (('lead', 'underwriter'), 12.108398357593343),\n",
       " (('line-item', 'veto'), 12.09579832081371),\n",
       " (('Georgia', 'Gulf'), 12.095798320813708),\n",
       " (('Jones', 'Industrial'), 12.075039760646913),\n",
       " (('Southeast', 'Asia'), 11.975504087095999),\n",
       " (('tentatively', 'priced'), 11.918920558729631),\n",
       " (('merchant', 'banking'), 11.886005936256893),\n",
       " (('light', 'trucks'), 11.882394682704515),\n",
       " (('Campbell', 'Soup'), 11.864472774707256),\n",
       " (('jointly', 'fined'), 11.771363370315772),\n",
       " (('unconstitutional', 'conditions'), 11.712469681262206),\n",
       " (('minimum', 'wage'), 11.642080353370805),\n",
       " (('England', 'Electric'), 11.610371493643466),\n",
       " (('alleged', 'violations'), 11.50388305945079),\n",
       " (('appropriations', 'clause'), 11.490077259925755),\n",
       " (('Dec.', '31'), 11.339252357677989),\n",
       " (('Wall', 'Street'), 11.3319043992405),\n",
       " (('closely', 'held'), 11.320152258483443),\n",
       " (('South', 'Carolina'), 11.297432181983362),\n",
       " (('South', 'Korea'), 11.297432181983359),\n",
       " (('Oct.', '13'), 11.275064368954906),\n",
       " (('Valley', 'Federal'), 11.227042854091962),\n",
       " (('Cray', 'Computer'), 11.208427175924614),\n",
       " (('test', 'scores'), 11.159928658233424),\n",
       " (('December', 'delivery'), 11.13393344970048),\n",
       " (('Reagan', 'administration'), 11.127507180541048),\n",
       " (('Greenville', 'High'), 11.111565636672028),\n",
       " (('Western', 'Union'), 11.111565636672028),\n",
       " ((\"'ve\", 'got'), 11.034397776149568),\n",
       " (('Big', 'Board'), 11.018008815610534),\n",
       " (('Soviet', 'Union'), 10.979115340648377),\n",
       " (('Mercantile', 'Exchange'), 10.975504087095999),\n",
       " (('Cray', 'Research'), 10.96400844825817),\n",
       " (('general', 'manager'), 10.93158697056579),\n",
       " (('ended', 'Sept.'), 10.918920558729631),\n",
       " (('Justice', 'Department'), 10.91892055872963),\n",
       " (('National', 'Association'), 10.905114759204599),\n",
       " (('Random', 'House'), 10.838000563346064),\n",
       " (('Stock', 'Exchange'), 10.805579085653685),\n",
       " (('tender', 'offer'), 10.80173701935929),\n",
       " (('Transportation', 'Department'), 10.797358578848717),\n",
       " (('S&P', '500'), 10.765711702539182),\n",
       " (('First', 'Boston'), 10.743401540814094),\n",
       " (('auto', 'maker'), 10.696528137393184),\n",
       " (('Sept.', '30'), 10.686259801939354),\n",
       " (('card', 'holders'), 10.674501831063182),\n",
       " (('purchasing', 'managers'), 10.660002261368067),\n",
       " (('Mrs.', 'Ward'), 10.645902064323217),\n",
       " (('High', 'School'), 10.642080353370805),\n",
       " (('bankruptcy', 'court'), 10.642080353370805),\n",
       " (('both', 'sides'), 10.642080353370805),\n",
       " (('Mrs.', 'Yeargin'), 10.63938875736454),\n",
       " (('percentage', 'point'), 10.623875757993215),\n",
       " (('1987', 'crash'), 10.619360276870724),\n",
       " (('American', 'Express'), 10.55327108641295),\n",
       " (('White', 'House'), 10.450977440236818),\n",
       " (('manufacturing', 'sector'), 10.394393911870447),\n",
       " (('debt', 'ceiling'), 10.358832726647504),\n",
       " (('President', 'Bush'), 10.35257373617582),\n",
       " (('appropriations', 'bills'), 10.31253907437357),\n",
       " (('fourth', 'quarter'), 10.311931751678474),\n",
       " (('construction', 'spending'), 10.286652343230116),\n",
       " (('Says', '*ICH*-1'), 10.26768483858931),\n",
       " (('Commerce', 'Department'), 10.242390818425397),\n",
       " (('Exchange', 'composite'), 10.20996934073302),\n",
       " (('stock-index', 'futures'), 10.201507761984827),\n",
       " (('&', 'Poor'), 10.193095522168624),\n",
       " (('early', 'retirement'), 10.193095522168624),\n",
       " (('nine', 'months'), 10.151754726787726),\n",
       " (('mutual', 'funds'), 10.138233587134108),\n",
       " (('third', 'quarter'), 10.127507180541048),\n",
       " (('Standard', '&'), 10.05559199841869),\n",
       " (('index', 'arbitrage'), 9.967283580291031),\n",
       " (('six', 'months'), 9.952445918564319),\n",
       " (('&', 'Loan'), 9.93006111633483),\n",
       " (('work', 'force'), 9.925873319371398),\n",
       " (('we', \"'ve\"), 9.841752698207172),\n",
       " (('90', 'days'), 9.831457717479292),\n",
       " (('net', 'income'), 9.80254502556405),\n",
       " (('executive', 'officer'), 9.779824949063968),\n",
       " (('I', \"'m\"), 9.77387022592635),\n",
       " (('So', 'far'), 9.744891158954584),\n",
       " (('appropriations', 'bill'), 9.73846488979515),\n",
       " (('Bush', 'administration'), 9.712469681262203),\n",
       " (('chief', 'executive'), 9.666827015706493),\n",
       " (('pretax', 'profit'), 9.645902064323217),\n",
       " (('no', 'longer'), 9.59145428030084),\n",
       " (('third-quarter', 'net'), 9.568423311645496),\n",
       " (('operating', 'officer'), 9.503883059450787),\n",
       " (('fiscal', '1989'), 9.490077259925757),\n",
       " (('term', 'bonds'), 9.473682821675087),\n",
       " (('8', '3\\\\/4'), 9.449435275428412),\n",
       " (('Mrs.', 'Hills'), 9.43945118685579),\n",
       " (('federal', 'funding'), 9.432361762069469),\n",
       " (('York', 'Stock'), 9.408408007168358),\n",
       " (('dividend', 'growth'), 9.39535860267262),\n",
       " (('first', 'nine'), 9.390541586374843),\n",
       " (('vice', 'president'), 9.390048441594484),\n",
       " (('1', '3\\\\/4'), 9.38574060011102),\n",
       " (('junk', 'bond'), 9.38286765848942),\n",
       " (('financial', 'institutions'), 9.379045947537012),\n",
       " (('We', \"'re\"), 9.376715431507824),\n",
       " (('interest', 'rates'), 9.335046473783137),\n",
       " (('late', 'Tuesday'), 9.330263574450731),\n",
       " (('-LRB-', 'D.'), 9.306477321586366),\n",
       " (('shares', 'outstanding'), 9.30104343553574),\n",
       " (('Exchange', 'Commission'), 9.297432181983359),\n",
       " (('fiscal', '1990'), 9.260209718027161),\n",
       " (('New', 'Hampshire'), 9.253038062624906),\n",
       " (('New', 'Orleans'), 9.253038062624906),\n",
       " (('New', 'York'), 9.253038062624906),\n",
       " (('New', 'York-based'), 9.253038062624906),\n",
       " (('above', '50'), 9.247801414258758),\n",
       " (('operating', 'profit'), 9.23086456504437),\n",
       " (('senior', 'vice'), 9.159928658233424),\n",
       " (('other', 'hand'), 9.138233587134108),\n",
       " (('composite', 'trading'), 9.098938028344278),\n",
       " (('due', 'Nov.'), 9.07092365217468),\n",
       " (('Savings', '&'), 9.05559199841869),\n",
       " (('junk', 'bonds'), 9.048661233823621),\n",
       " (('financial', 'officer'), 9.034397776149568),\n",
       " (('Sales', 'rose'), 9.025657926585408),\n",
       " (('Containers', \"'\"), 9.014498218711863),\n",
       " (('Terms', 'were'), 8.997308457414347),\n",
       " (('years', 'ago'), 8.985374331120058),\n",
       " (('commercial', 'banks'), 8.946934934899229),\n",
       " (('net', 'loss'), 8.946934934899227),\n",
       " (('money', 'managers'), 8.891439822307522),\n",
       " (('Industries', 'Inc.'), 8.849522433241281),\n",
       " (('chief', 'operating'), 8.831457717479292),\n",
       " (('Nov.', '30'), 8.80173701935929),\n",
       " (('cash', 'income'), 8.800778099389865),\n",
       " (('&', 'Co'), 8.778058022889782),\n",
       " (('executive', 'vice'), 8.77290553512418),\n",
       " (('same', 'time'), 8.754555082629217),\n",
       " (('New', 'England'), 8.729476106567894),\n",
       " (('even', 'though'), 8.67391644049281),\n",
       " (('years', 'old'), 8.648339343842487),\n",
       " (('It', '*EXP*-1'), 8.631549685878639),\n",
       " (('model', 'year'), 8.62840541647373),\n",
       " (('bonds', 'due'), 8.621240010088945),\n",
       " (('suspension', ';'), 8.588530885094071),\n",
       " (('rather', 'than'), 8.586938799178345),\n",
       " (('recent', 'weeks'), 8.57496615751227),\n",
       " (('In', 'addition'), 8.561209342607672),\n",
       " (('pence', '-LRB-'), 8.512928199053793),\n",
       " (('&', 'Co.'), 8.507204112596687),\n",
       " (('we', \"'re\"), 8.498344875909355),\n",
       " (('so', 'far'), 8.469613157366041),\n",
       " (('money', 'manager'), 8.458480415031417),\n",
       " (('preferred', 'stock'), 8.416420218200448),\n",
       " (('common', 'shares'), 8.413011867178536),\n",
       " (('preferred', 'shares'), 8.40795863945225),\n",
       " (('how', 'much'), 8.390541586374841),\n",
       " (('Program', 'trading'), 8.38642547790261),\n",
       " (('futures', 'contracts'), 8.379045947537012),\n",
       " (('below', '50'), 8.373332296342618),\n",
       " (('well', 'below'), 8.373332296342618),\n",
       " (('chief', 'financial'), 8.361972434178071),\n",
       " (('next', 'week'), 8.356873873609448),\n",
       " (('Japanese', 'investments'), 8.346030890309049),\n",
       " (('U.S.', 'currency'), 8.346030890309049),\n",
       " (('If', 'you'), 8.338074166480705),\n",
       " (('his', 'departure'), 8.321985416342397),\n",
       " (('were', 'jointly'), 8.319236552301708),\n",
       " (('an', 'ounce'), 8.315579528693618),\n",
       " (('analysts', 'say'), 8.291005912823929),\n",
       " (('ca', \"n't\"), 8.275064368954908),\n",
       " (('wo', \"n't\"), 8.275064368954904),\n",
       " (('futures', 'contract'), 8.23998190979946),\n",
       " (('you', \"'re\"), 8.217058765519342),\n",
       " (('year', 'ending'), 8.213367917194885),\n",
       " (('country', 'funds'), 8.199634131798248),\n",
       " (('already', 'own'), 8.19729551069791),\n",
       " (('October', '1988'), 8.196769842978162),\n",
       " (('first', 'half'), 8.18890772520519),\n",
       " (('Among', 'other'), 8.17475946315922),\n",
       " (('program', 'trading'), 8.173468636575775),\n",
       " (('admitting', 'or'), 8.171450528128643),\n",
       " (('or', 'denying'), 8.171450528128643),\n",
       " (('net', 'cash'), 8.105632680918287),\n",
       " (('an', 'hour'), 8.093187107357172),\n",
       " (('Last', 'year'), 8.08408490024992),\n",
       " (('billion', 'yen'), 8.08408490024992),\n",
       " (('two', 'weeks'), 8.058390631771365),\n",
       " (('I', 'think'), 8.05766319192694),\n",
       " (('program', 'trades'), 8.045713089377402),\n",
       " (('program', 'traders'), 8.0457130893774),\n",
       " (('130', 'million'), 8.038159694945765),\n",
       " (('Mr.', 'Hahn'), 7.998224163596081),\n",
       " (('30', 'days'), 7.977308583942747),\n",
       " (('at', 'par'), 7.968308585691794),\n",
       " (('at', '99'), 7.968308585691792),\n",
       " (('Mr.', 'Baum'), 7.898688490045167),\n",
       " (('shares', 'closed'), 7.879579667097461),\n",
       " (('Mr.', 'Trudeau'), 7.846221070151033),\n",
       " (('last', 'month'), 7.838000563346062),\n",
       " (('year', 'earlier'), 7.83003927764338),\n",
       " (('Mr.', 'Nixon'), 7.805579085653687),\n",
       " (('Mr.', 'Reupke'), 7.805579085653685),\n",
       " (('less', 'than'), 7.805579085653685),\n",
       " (('an', 'interview'), 7.801006355863862),\n",
       " (('Mr.', 'Lane'), 7.779106874292493),\n",
       " (('Mr.', 'Spiegel'), 7.779106874292493),\n",
       " (('three', 'months'), 7.736717227508883),\n",
       " (('first', 'time'), 7.735189757762287),\n",
       " (('holding', 'company'), 7.734495987592203),\n",
       " (('compared', 'with'), 7.733663903531328),\n",
       " (('more', 'than'), 7.707603926090387),\n",
       " (('at', 'least'), 7.705274179858),\n",
       " (('managers', \"'\"), 7.692570123824501),\n",
       " ((\"n't\", 'elaborate'), 7.69010186823375),\n",
       " (('will', 'receive'), 7.677579034592192),\n",
       " (('last', 'week'), 7.66807556190375),\n",
       " (('shall', 'be'), 7.658200018734082),\n",
       " (('Mr.', 'Steinberg'), 7.653575992208637),\n",
       " (('Mr.', 'McGovern'), 7.653575992208635),\n",
       " (('Group', 'Inc.'), 7.640935811429864),\n",
       " (('Mr.', 'Phelan'), 7.621154514516258),\n",
       " (('Mr.', 'Simmons'), 7.609181872850181),\n",
       " (('did', \"n't\"), 7.606270277430278),\n",
       " (('does', \"n't\"), 7.56457098614989),\n",
       " (('A', 'spokesman'), 7.552598344483814),\n",
       " (('last', 'year'), 7.528869742922815),\n",
       " (('he', 'believes'), 7.510835820092552),\n",
       " (('small', 'investors'), 7.50457682962087),\n",
       " (('five', 'years'), 7.5008517315199335),\n",
       " (('these', 'days'), 7.487503316261929),\n",
       " (('will', 'remain'), 7.484933956649797),\n",
       " ((\"n't\", 'disclosed'), 7.444989370397218),\n",
       " ((\"'\", 'report'), 7.429535717990705),\n",
       " (('Mr.', 'Bernstein'), 7.4165367949077865),\n",
       " (('Mr.', 'Dinkins'), 7.4165367949077865),\n",
       " (('this', 'week'), 7.401901448539389),\n",
       " (('Mr.', 'Wilder'), 7.390541586374841),\n",
       " (('owns', 'about'), 7.347897248966349),\n",
       " (('was', 'named'), 7.340732123531307),\n",
       " (('days', ';'), 7.3364373420709335),\n",
       " (('51', '%'), 7.3330335497801755),\n",
       " (('this', 'fall'), 7.3181907421501595),\n",
       " (('their', 'own'), 7.312159467729915),\n",
       " (('it', '*EXP*-2'), 7.309505014283937),\n",
       " (('recent', 'years'), 7.304384942625129),\n",
       " (('Japanese', 'companies'), 7.304210714614422),\n",
       " (('be', 'reached'), 7.226089006096297),\n",
       " ((';', '8'), 7.201507761984825),\n",
       " (('heavily', 'on'), 7.197295510697909),\n",
       " (('million', 'guilders'), 7.190162788390815),\n",
       " (('200', 'million'), 7.163690577029627),\n",
       " (('higher', 'prices'), 7.163348178774575),\n",
       " (('recent', 'months'), 7.151754726787727),\n",
       " (('do', \"n't\"), 7.151075651679452),\n",
       " (('be', 'able'), 7.143626845904324),\n",
       " (('disgorge', '$'), 7.131520243047673),\n",
       " (('$', '25,000'), 7.131520243047671),\n",
       " (('Japanese', 'investment'), 7.111565636672028),\n",
       " (('some', 'analysts'), 7.1036604385866795),\n",
       " (('year', 'ago'), 7.102943927501235),\n",
       " (('recent', 'days'), 7.098938028344277),\n",
       " ((\"n't\", 'clear'), 7.082419291012512),\n",
       " (('able', '*-2'), 7.080201465762691),\n",
       " (('25,000', '*U*'), 7.0802014657626895),\n",
       " (('an', 'additional'), 7.074571429189824),\n",
       " (('next', 'year'), 7.073278145293337),\n",
       " (('Mr.', 'Courter'), 7.068613491487479),\n",
       " (('$', '15,000'), 7.061130915156273),\n",
       " (('few', 'years'), 7.051404201455256),\n",
       " (('as', 'well'), 7.030645641288459),\n",
       " (('5', '%'), 7.029964482144129),\n",
       " (('has', 'taken'), 7.021573735791984),\n",
       " (('common', 'stock'), 7.020935516343004),\n",
       " (('15,000', '*U*'), 7.009812137871293),\n",
       " (('it', '*EXP*-1'), 7.002076489091687),\n",
       " (('she', 'did'), 6.983339926510103),\n",
       " (('will', 'continue'), 6.970360783820039),\n",
       " (('earlier', 'this'), 6.97026743872985),\n",
       " (('argue', 'that'), 6.962935413592943),\n",
       " (('10', 'billion'), 6.955980074502232),\n",
       " (('Japanese', 'investors'), 6.9416406352297155),\n",
       " (('Mr.', 'Coleman'), 6.931109967737543),\n",
       " (('one', 'month'), 6.922889460932577),\n",
       " (('his', 'own'), 6.893142117538526),\n",
       " (('Moody', \"'s\"), 6.864472774707254),\n",
       " (('Poor', \"'s\"), 6.864472774707254),\n",
       " (('Rally', \"'s\"), 6.864472774707254),\n",
       " (('Weisfield', \"'s\"), 6.864472774707252),\n",
       " ((\"n't\", 'yet'), 6.860026869676064),\n",
       " (('they', \"'re\"), 6.8544886861346335),\n",
       " (('had', 'been'), 6.83157429418663),\n",
       " (('unchanged', 'at'), 6.830805061941858),\n",
       " (('should', 'be'), 6.802589928069258),\n",
       " (('``', 'Cosby'), 6.801462977181455),\n",
       " (('futures', 'prices'), 6.800778099389866),\n",
       " (('three', 'years'), 6.773870225926348),\n",
       " (('billion', '*U*'), 6.756003197250504),\n",
       " (('Dealers', 'said'), 6.73977702725794),\n",
       " (('$', '5,000'), 6.716482743768827),\n",
       " (('are', 'priced'), 6.713371647556595),\n",
       " (('has', 'been'), 6.7133205778016976),\n",
       " (('million', '*U*'), 6.713320004638501),\n",
       " (('25', '%'), 6.702983159530483),\n",
       " (('suggested', 'that'), 6.699901007759147),\n",
       " (('``', 'We'), 6.696907046138863),\n",
       " (('earned', '$'), 6.6720886244103745),\n",
       " (('trading', 'yesterday'), 6.670701031310573),\n",
       " (('yen', '-LRB-'), 6.669047400971078),\n",
       " (('fiscal', 'year'), 6.669047400971074),\n",
       " (('7', '%'), 6.666457283505368),\n",
       " (('5,000', '*U*'), 6.665163966483847),\n",
       " (('$', '10,000'), 6.662034959746453),\n",
       " (('9', '%'), 6.648535375508105),\n",
       " (('from', 'continuing'), 6.648391616348912),\n",
       " (('sources', 'said'), 6.646667622866458),\n",
       " (('$', '250'), 6.646093415877429),\n",
       " (('months', ';'), 6.640792807510344),\n",
       " (('such', 'as'), 6.632096264798184),\n",
       " (('he', 'added'), 6.621867132481297),\n",
       " (('$', '130'), 6.616947070217915),\n",
       " (('50', '%'), 6.616826515780767),\n",
       " (('Cosby', \"''\"), 6.616545261263671),\n",
       " (('1,000', '*U*'), 6.594774638592449),\n",
       " (('ability', '*'), 6.579444262631419),\n",
       " (('an', 'estimated'), 6.578613934527414),\n",
       " (('an', 'analyst'), 6.56069202653015),\n",
       " (('be', 'built'), 6.558664345183168),\n",
       " (('%', 'term'), 6.555425971116623),\n",
       " (('information', 'about'), 6.554348126433773),\n",
       " (('two', 'years'), 6.5468013173804245),\n",
       " (('$', '300'), 6.546557742326517),\n",
       " (('11', '%'), 6.538352457757684),\n",
       " (('I', 'do'), 6.534404291230958),\n",
       " (('*U*', 'fine'), 6.523808117238305),\n",
       " (('have', 'been'), 6.514582850318213),\n",
       " (('well', 'as'), 6.507083685231446),\n",
       " (('10,000', '*U*'), 6.495238965041537),\n",
       " (('look', 'at'), 6.482881758521552),\n",
       " (('could', 'get'), 6.479808924471929),\n",
       " (('it', 'expects'), 6.4766150001191924),\n",
       " (('if', 'you'), 6.4721553519284925),\n",
       " (('12', '%'), 6.4648234223357175),\n",
       " (('can', 'do'), 6.462735411112989),\n",
       " (('for', 'instance'), 6.459741181554797),\n",
       " (('this', 'year'), 6.455340707500849),\n",
       " (('this', 'month'), 6.443721624234017),\n",
       " (('*', 'Take'), 6.441940738881485),\n",
       " (('5\\\\/8', '%'), 6.439948753696687),\n",
       " ((';', 'John'), 6.4359730156218475),\n",
       " (('trying', '*-2'), 6.428124769182999),\n",
       " (('15', '%'), 6.426142954171658),\n",
       " (('ban', 'on'), 6.419687932034357),\n",
       " (('may', 'be'), 6.406661251738118),\n",
       " (('you', 'do'), 6.402614418675416),\n",
       " (('$', '55'), 6.394554648881467),\n",
       " (('stock', 'market'), 6.394393911870447),\n",
       " (('1\\\\/2', '%'), 6.385500969674311),\n",
       " (('two', 'months'), 6.372144795213025),\n",
       " (('an', 'increase'), 6.361383218306743),\n",
       " (('for', 'example'), 6.360205508003883),\n",
       " (('20', '%'), 6.344529188618004),\n",
       " (('going', '*-2'), 6.343235871596486),\n",
       " (('she', 'says'), 6.338767936650793),\n",
       " ((\"n't\", 'think'), 6.33646491361905),\n",
       " (('nation', \"'s\"), 6.308079426182868),\n",
       " (('be', 'acquired'), 6.295629939349373),\n",
       " (('valued', '*'), 6.289937645436437),\n",
       " (('talks', 'with'), 6.286204926560108),\n",
       " (('rumors', 'that'), 6.284863508480303),\n",
       " (('signs', 'that'), 6.284863508480303),\n",
       " (('will', 'become'), 6.283300095480145),\n",
       " (('people', 'who'), 6.270632122639647),\n",
       " (('refused', '*-1'), 6.263825643133675),\n",
       " (('you', 'can'), 6.257416503135481),\n",
       " (('$', '200'), 6.257051125131532),\n",
       " (('effort', '*'), 6.245543526077983),\n",
       " (('$', '70'), 6.238435446964184),\n",
       " (('In', 'October'), 6.236496121293772),\n",
       " (('dealers', 'said'), 6.225203854428182),\n",
       " (('*EXP*-1', 'is'), 6.184797201312085),\n",
       " (('shares', 'rose'), 6.177661020030456),\n",
       " (('``', 'You'), 6.164033056566163),\n",
       " (('indicated', 'that'), 6.155580491535337),\n",
       " (('ways', '0'), 6.154814526536784),\n",
       " (('be', 'paid'), 6.143626845904324),\n",
       " (('it', 'completed'), 6.139580012841622),\n",
       " (('does', 'not'), 6.131118434093425),\n",
       " (('Courter', \"'s\"), 6.127507180541048),\n",
       " (('stock', 'markets'), 6.125905075944546),\n",
       " (('said', '0'), 6.102347106642647),\n",
       " (('higher', 'than'), 6.097759837146997),\n",
       " (('speculation', 'that'), 6.0884662956768025),\n",
       " (('3', '%'), 6.081494782784214),\n",
       " (('will', 'be'), 6.075289716141171),\n",
       " (('those', 'who'), 6.074234909836143),\n",
       " (('closed', 'at'), 6.0614179900832745),\n",
       " (('and', 'minivans'), 6.058072331705892),\n",
       " (('and', 'vans'), 6.058072331705892),\n",
       " (('fact', 'that'), 6.056044817984423),\n",
       " (('6', '%'), 6.05292563058744),\n",
       " (('say', '0'), 6.043453417589081),\n",
       " (('3', 'million'), 6.038159694945765),\n",
       " (('He', 'also'), 6.037218295211947),\n",
       " (('believe', '0'), 6.031957778751249),\n",
       " (('close', 'at'), 6.020776005585931),\n",
       " (('comment', 'on'), 6.019757325145724),\n",
       " (('may', 'not'), 6.019757325145724),\n",
       " (('Ratners', \"'s\"), 6.016475868152304),\n",
       " (('3\\\\/4', '%'), 6.011105454892814),\n",
       " ((\"n't\", 'want'), 6.002045874548491),\n",
       " (('quoted', '*-1'), 6.000791237299879),\n",
       " (('demand', 'for'), 5.994077609205986),\n",
       " (('$', '100'), 5.979517149602621),\n",
       " (('``', 'There'), 5.971387978623767),\n",
       " (('workers', 'at'), 5.968308585691792),\n",
       " (('aimed', '*'), 5.968009550549075),\n",
       " (('attempt', '*'), 5.968009550549075),\n",
       " (('be', 'used'), 5.950981767961929),\n",
       " (('spokesman', 'said'), 5.946227904725367),\n",
       " (('$', '4'), 5.9388751651052765),\n",
       " (('did', 'not'), 5.931809625870018),\n",
       " (('There', 'is'), 5.929631038811634),\n",
       " (('would', 'be'), 5.928120810153114),\n",
       " (('In', 'September'), 5.926919129522947),\n",
       " (('is', 'expected'), 5.921069025308206),\n",
       " (('think', '0'), 5.900713245472998),\n",
       " (('would', 'like'), 5.886466052682703),\n",
       " (('100', 'million'), 5.886156601500716),\n",
       " (('could', 'be'), 5.880592440070533),\n",
       " (('might', 'be'), 5.8541202287093395),\n",
       " (('designed', '*'), 5.842478668465214),\n",
       " (('thought', '0'), 5.839312700808852),\n",
       " (('efforts', '*'), 5.83050602679914),\n",
       " (('for', 'alleged'), 5.829690791305104),\n",
       " (('%', 'stake'), 5.818460376950419),\n",
       " (('40', '%'), 5.818460376950419),\n",
       " (('$', '3'), 5.809592148160309),\n",
       " (('appears', '*-1'), 5.808146159357483),\n",
       " (('disclosed', '*-1'), 5.808146159357483),\n",
       " (('willing', '*-1'), 5.808146159357483),\n",
       " (('account', 'for'), 5.807664484975103),\n",
       " (('want', '*-2'), 5.807182971356276),\n",
       " (('its', 'own'), 5.7995360028509015),\n",
       " (('analyst', 'at'), 5.798383584249484),\n",
       " (('traded', '*'), 5.798084549106761),\n",
       " (('It', 'also'), 5.7758317422596335),\n",
       " (('40', 'million'), 5.775125289111971),\n",
       " (('U.S.', 'trade'), 5.772564028425723),\n",
       " (('a', 'pound'), 5.74437892921695),\n",
       " (('believes', '0'), 5.73977702725794),\n",
       " ((\"n't\", 'see'), 5.739011468714695),\n",
       " (('if', 'they'), 5.735189757762287),\n",
       " (('10', '%'), 5.73099753570008),\n",
       " (('We', 'have'), 5.72938107049916),\n",
       " (('likely', '*-1'), 5.727226163973919),\n",
       " (('Georgia-Pacific', \"'s\"), 5.726969250957318),\n",
       " (('Marine', \"'s\"), 5.726969250957318),\n",
       " (('no', 'one'), 5.716985162384699),\n",
       " (('Mr.', 'Cray'), 5.7060434121027725),\n",
       " (('issued', '*'), 5.704975144715281),\n",
       " (('*', 'making'), 5.704975144715279),\n",
       " (('produced', '*'), 5.704975144715279),\n",
       " (('stock', 'prices'), 5.690595181639443),\n",
       " (('saying', '0'), 5.66938769936654),\n",
       " (('its', 'bid'), 5.6593583448026425),\n",
       " (('help', '*-2'), 5.653936711060593),\n",
       " (('*-1', 'saying'), 5.63822115791517),\n",
       " (('allowed', '*-1'), 5.63822115791517),\n",
       " (('an', 'average'), 5.637507623580982),\n",
       " (('are', 'being'), 5.63245165217303),\n",
       " (('he', 'did'), 5.627028837597077),\n",
       " (('trading', 'companies'), 5.624158445373542),\n",
       " (('share', 'prices'), 5.620205853748043),\n",
       " (('trucks', 'and'), 5.610613354734671),\n",
       " (('Mr.', 'Bush'), 5.609181872850181),\n",
       " (('or', 'so'), 5.606665909345118),\n",
       " (('he', 'does'), 5.603945224484036),\n",
       " (('not', 'only'), 5.600603717394646),\n",
       " (('says', '0'), 5.597554954605474),\n",
       " (('known', '*'), 5.589497927295346),\n",
       " (('is', 'likely'), 5.5771146240908465),\n",
       " (('based', '*'), 5.55813375638601),\n",
       " ((\"''\", 'says'), 5.553351434776477),\n",
       " (('down', 'from'), 5.541476412432399),\n",
       " (('expected', '*-1'), 5.540665848492498),\n",
       " (('according', 'to'), 5.539875493043908),\n",
       " (('to', 'disgorge'), 5.539875493043908),\n",
       " (('According', 'to'), 5.5398754930439065),\n",
       " (('access', 'to'), 5.5398754930439065),\n",
       " (('consented', 'to'), 5.5398754930439065),\n",
       " (('to', 'cover'), 5.5398754930439065),\n",
       " (('to', 'discuss'), 5.5398754930439065),\n",
       " (('to', 'expand'), 5.5398754930439065),\n",
       " (('could', \"n't\"), 5.538098774788699),\n",
       " (('based', 'on'), 5.535880949538882),\n",
       " (('``', 'I'), 5.527996371250737),\n",
       " (('he', 'says'), 5.5190563268975215),\n",
       " (('in', 'September'), 5.515547947441874),\n",
       " (('interested', 'in'), 5.515547947441874),\n",
       " (('are', 'still'), 5.506920770089172),\n",
       " (('for', 'comment'), 5.504595417339059),\n",
       " (('futures', 'market'), 5.50457682962087),\n",
       " (('can', 'be'), 5.4959285898352075),\n",
       " (('but', 'not'), 5.495598103486765),\n",
       " (('This', 'is'), 5.4922257265043335),\n",
       " (('continue', '*-1'), 5.486218064470121),\n",
       " (('failed', '*-1'), 5.486218064470121),\n",
       " (('a', 'bottle'), 5.481344523383154),\n",
       " (('more', 'like'), 5.479041737513732),\n",
       " (('sector', 'is'), 5.463656574307562),\n",
       " (('The', 'following'), 5.45545906305618),\n",
       " (('15', 'million'), 5.453197194224611),\n",
       " (('it', 'plans'), 5.444434594370044),\n",
       " (('be', 'sold'), 5.443187127763235),\n",
       " (('yield', 'from'), 5.441940738881486),\n",
       " (('authority', '*'), 5.441940738881485),\n",
       " (('PS', 'of'), 5.44007317222472),\n",
       " (('millions', 'of'), 5.44007317222472),\n",
       " (('source', 'of'), 5.44007317222472),\n",
       " (('of', 'Medicine'), 5.440073172224718),\n",
       " (('size', 'of'), 5.440073172224718),\n",
       " (('found', 'that'), 5.439373457535929),\n",
       " (('she', 'was'), 5.417899984053767),\n",
       " (('in', '1991'), 5.416012273890962),\n",
       " (('has', 'already'), 5.406863891676773),\n",
       " (('*-1', 'To'), 5.398755223219782),\n",
       " (('agreed', '*-1'), 5.398755223219782),\n",
       " (('had', 'no'), 5.395057067497335),\n",
       " (('are', 'expected'), 5.391443552669234),\n",
       " (('called', '*'), 5.383047049827917),\n",
       " (('will', 'help'), 5.3805972968350595),\n",
       " (('Taiwan', 'and'), 5.380000426593256),\n",
       " (('The', 'department'), 5.378643466005348),\n",
       " (('500', 'million'), 5.375194682223338),\n",
       " (('continues', '*-1'), 5.370740847050186),\n",
       " (('priced', '*-1'), 5.370740847050186),\n",
       " (('wanted', '*-1'), 5.370740847050186),\n",
       " ((\"n't\", 'even'), 5.357526529146877),\n",
       " (('officials', 'said'), 5.355113177022616),\n",
       " (('$', '40'), 5.35391266438412),\n",
       " (('should', \"n't\"), 5.349064950398681),\n",
       " (('declined', '*-1'), 5.348714540720186),\n",
       " (('trying', '*-1'), 5.348714540720186),\n",
       " (('to', 'extend'), 5.347230415101512),\n",
       " (('but', 'I'), 5.3428204086588735),\n",
       " (('a', 'share'), 5.341414262238679),\n",
       " (('?', \"''\"), 5.339011285734758),\n",
       " (('a', 'lot'), 5.329341429938104),\n",
       " (('priced', '*'), 5.32646352146155),\n",
       " (('noted', 'that'), 5.319079223818218),\n",
       " (('right', '*'), 5.317952021606034),\n",
       " (('contributed', 'to'), 5.317483071707461),\n",
       " (('to', 'file'), 5.317483071707461),\n",
       " (('fined', '*-1'), 5.316293063027809),\n",
       " (('when', 'he'), 5.314438607289052),\n",
       " (('there', 'is'), 5.311653480862512),\n",
       " (('is', 'seeking'), 5.303191902114316),\n",
       " (('``', 'If'), 5.301536580316096),\n",
       " (('``', 'This'), 5.301536580316096),\n",
       " (('million', 'shares'), 5.292732522031363),\n",
       " (('and', 'chief'), 5.292537585342917),\n",
       " (('director', 'at'), 5.290236680579156),\n",
       " (('on', 'Wall'), 5.280623894296808),\n",
       " (('Japan', \"'s\"), 5.2795102739861),\n",
       " (('response', 'to'), 5.276841087210112),\n",
       " (('to', 'pursue'), 5.276841087210112),\n",
       " (('$', '10'), 5.266449823133781),\n",
       " (('helped', '*-1'), 5.263825643133675),\n",
       " (('scheduled', '*-1'), 5.263825643133675),\n",
       " (('which', '*T*-1'), 5.259467513903889),\n",
       " (('a', 'university'), 5.258952102046706),\n",
       " (('Columbia', \"'s\"), 5.239981909799463),\n",
       " (('expects', '*-1'), 5.238290551026536),\n",
       " (('``', 'What'), 5.238033638009938),\n",
       " (('8', '%'), 5.233497876229263),\n",
       " (('or', 'sell'), 5.232851072792787),\n",
       " (('a', 'joint'), 5.22980575638719),\n",
       " (('estimated', 'that'), 5.225969819426737),\n",
       " (('analysts', 'said'), 5.225203854428182),\n",
       " (('result', 'in'), 5.2233671959485655),\n",
       " (('when', 'they'), 5.223290719230857),\n",
       " (('will', 'take'), 5.221899550816001),\n",
       " (('``', 'It'), 5.220616584932532),\n",
       " (('under', 'which'), 5.220616584932529),\n",
       " (('scheduled', '*'), 5.219548317545037),\n",
       " (('yen', 'from'), 5.219548317545037),\n",
       " (('to', 'acquire'), 5.217947398156545),\n",
       " (('100', '*U*'), 5.217704989512624),\n",
       " (('The', 'Soviet'), 5.207531549612593),\n",
       " (('agreement', '*'), 5.202474804186098),\n",
       " (('named', '*-1'), 5.196711447275137),\n",
       " (('for', 'each'), 5.195146261733386),\n",
       " (('%', 'increase'), 5.186192161450904),\n",
       " (('10', 'million'), 5.1730892750318755),\n",
       " (('They', 'are'), 5.171317738304733),\n",
       " (('says', '*T*-1'), 5.157369326285153),\n",
       " (('it', 'does'), 5.139580012841622),\n",
       " (('to', 'findings'), 5.124837993765064),\n",
       " (('stake', 'in'), 5.116451992032054),\n",
       " (('``', 'She'), 5.093643728674763),\n",
       " (('``', 'When'), 5.093643728674763),\n",
       " (('want', '*-1'), 5.087668687979846),\n",
       " (('they', 'do'), 5.080686323788056),\n",
       " (('advantage', 'of'), 5.077503092840011),\n",
       " (('sale', 'of'), 5.07750309284001),\n",
       " (('drop', 'in'), 5.074975356055893),\n",
       " (('able', '*-1'), 5.071180565191279),\n",
       " (('in', 'October'), 5.070237437049229),\n",
       " (('way', '0'), 5.069925628950269),\n",
       " (('and', 'Learning'), 5.058072331705892),\n",
       " ((\"'s\", 'proposal'), 5.057117852649652),\n",
       " ((\"'s\", 'largest'), 5.05711785264965),\n",
       " (('an', 'American'), 5.056845260293452),\n",
       " (('to', 'ease'), 5.0544486658736645),\n",
       " (('to', 'settle'), 5.0544486658736645),\n",
       " (('He', 'said'), 5.041805564707598),\n",
       " (('number', 'of'), 5.035682917145383),\n",
       " (('$', '2'), 5.031984569496759),\n",
       " (('buy', 'or'), 5.0284925742866005),\n",
       " (('China', \"'s\"), 5.027971506990134),\n",
       " (('led', '*'), 5.026903239602641),\n",
       " (('``', 'So'), 5.026529532816227),\n",
       " (('lack', 'of'), 5.025035672945876),\n",
       " (('lot', 'of'), 5.025035672945874),\n",
       " (('because', 'they'), 5.022471709842758),\n",
       " (('we', 'have'), 5.020935516343004),\n",
       " (('there', 'are'), 5.004420429559987),\n",
       " (('in', '1986'), 5.000974774612116),\n",
       " (('in', 'August'), 5.000974774612116),\n",
       " (('wants', '*-1'), 5.000791237299879),\n",
       " (('they', 'say'), 4.998224163596081),\n",
       " (('but', 'he'), 4.9948971052385644),\n",
       " (('who', '*T*-3'), 4.992647375339878),\n",
       " (('plans', '*-1'), 4.98371772394094),\n",
       " (('spokesman', 'for'), 4.981693884750152),\n",
       " (('0', 'they'), 4.973064089697679),\n",
       " (('expected', '*-2'), 4.9647242483427565),\n",
       " (('may', 'have'), 4.962041827289436),\n",
       " (('new', 'company'), 4.957582179098738),\n",
       " (('to', 'consider'), 4.954912992322752),\n",
       " (('kind', 'of'), 4.954646345054476),\n",
       " (('majority', 'of'), 4.954646345054476),\n",
       " (('of', 'watches'), 4.954646345054476),\n",
       " (('The', 'average'), 4.940885890226424),\n",
       " ((\"'s\", 'decision'), 4.938473356151031),\n",
       " (('cents', 'a'), 4.937024007159344),\n",
       " (('they', 'can'), 4.935488408248121),\n",
       " (('says', '*T*-2'), 4.934093826176365),\n",
       " (('1', 'million'), 4.933823035131029),\n",
       " (('under', 'its'), 4.922392750636437),\n",
       " (('0', 'it'), 4.917187591505176),\n",
       " (('*U*', '-RRB-'), 4.916702733479813),\n",
       " (('built', '*-1'), 4.901255563748965),\n",
       " (('were', \"n't\"), 4.900940062942114),\n",
       " (('a', 'fixed'), 4.896382022661998),\n",
       " (('orders', 'for'), 4.894541935655072),\n",
       " (('to', 'win'), 4.887798796464216),\n",
       " ((\"''\", 'While'), 4.879579667097461),\n",
       " (('was', 'made'), 4.877331602691063),\n",
       " (('used', '*'), 4.874900146157591),\n",
       " (('I', 'would'), 4.8738660159030704),\n",
       " (('a', 'single'), 4.869909811300808),\n",
       " (('they', 'were'), 4.868025440469381),\n",
       " (('role', 'in'), 4.86347125086218),\n",
       " (('to', 'operate'), 4.861803587931268),\n",
       " (('to', 'produce'), 4.861803587931268),\n",
       " (('is', 'based'), 4.859957511004822),\n",
       " (('part', 'of'), 4.855110671503564),\n",
       " (('acquisition', 'of'), 4.855110671503562),\n",
       " (('know', '0'), 4.839312700808852),\n",
       " (('an', 'investment'), 4.830152701523376),\n",
       " (('to', 'buy'), 4.811955038480708),\n",
       " (('decided', '*-1'), 4.808146159357483),\n",
       " (('used', '*-1'), 4.808146159357483),\n",
       " (('to', 'begin'), 4.802909898877703),\n",
       " (('country', \"'s\"), 4.8003424372875365),\n",
       " (('in', 'Washington'), 4.799340913442464),\n",
       " (('Street', \"'s\"), 4.786470262705981),\n",
       " (('decision', '*'), 4.7789757261590555),\n",
       " (('$', '50'), 4.777883288432971),\n",
       " (('issue', 'was'), 4.777795929140149),\n",
       " (('The', 'Treasury'), 4.775978963550735),\n",
       " (('0', '*T*-3'), 4.775452758861935),\n",
       " (('Treasury', 'said'), 4.774542445418618),\n",
       " (('-RRB-', '--'), 4.773870225926348),\n",
       " (('is', 'being'), 4.769759702033243),\n",
       " (('administration', \"'s\"), 4.76493710115634),\n",
       " (('subject', 'to'), 4.762267914380356),\n",
       " (('to', 'meet'), 4.762267914380356),\n",
       " (('instead', 'of'), 4.76200126711208),\n",
       " (('introduction', 'of'), 4.76200126711208),\n",
       " (('Board', \"'s\"), 4.760136114892518),\n",
       " (('profit', 'from'), 4.753884745196228),\n",
       " (('lead', 'to'), 4.751379598237618),\n",
       " (('designed', '*-1'), 4.749252470303917),\n",
       " (('would', 'have'), 4.7465357915382285),\n",
       " (('a', 'great'), 4.74437892921695),\n",
       " (('posted', 'a'), 4.74437892921695),\n",
       " (('a', 'principal'), 4.744378929216948),\n",
       " (('a', 'line-item'), 4.744378929216946),\n",
       " (('concern', 'said'), 4.73977702725794),\n",
       " (('in', 'January'), 4.737940368778322),\n",
       " (('its', 'common'), 4.733358926246417),\n",
       " (('all', 'this'), 4.731225888517853),\n",
       " (('terms', 'of'), 4.729579789419702),\n",
       " (('today', \"'s\"), 4.726969250957318),\n",
       " (('in', '1985'), 4.7208668554193824),\n",
       " (('investments', 'in'), 4.7208668554193824),\n",
       " (('.', 'About'), 4.716985162384699),\n",
       " (('.', 'Although'), 4.716985162384699),\n",
       " (('.', 'Last'), 4.716985162384699),\n",
       " (('.', 'More'), 4.716985162384699),\n",
       " (('.', 'Several'), 4.716985162384699),\n",
       " (('.', 'Since'), 4.716985162384699),\n",
       " (('.', 'Under'), 4.716985162384699),\n",
       " (('Ltd', '.'), 4.716985162384699),\n",
       " (('.', 'Meanwhile'), 4.716985162384697),\n",
       " (('.', 'Moreover'), 4.716985162384697),\n",
       " (('.', 'Still'), 4.716985162384697),\n",
       " (('.', 'Terms'), 4.716985162384697),\n",
       " (('Co', '.'), 4.716985162384697),\n",
       " (('.', 'Fees'), 4.716985162384695),\n",
       " (('.', 'From'), 4.716985162384695),\n",
       " (('.', 'His'), 4.716985162384695),\n",
       " (('.', 'However'), 4.716985162384695),\n",
       " (('.', 'Instead'), 4.716985162384695),\n",
       " (('.', 'Its'), 4.716985162384695),\n",
       " (('.', 'Sales'), 4.716985162384695),\n",
       " (('.', 'Until'), 4.716985162384695),\n",
       " (('Corp', '.'), 4.716985162384695),\n",
       " (('Inc', '.'), 4.716985162384695),\n",
       " (('N.J', '.'), 4.716985162384695),\n",
       " (('-RRB-', ';'), 4.716080934814583),\n",
       " (('1', '%'), 4.714123717135681),\n",
       " (('to', 'yield'), 4.70980049448622),\n",
       " (('as', 'much'), 4.708717546401099),\n",
       " (('they', 'had'), 4.708717546401097),\n",
       " (('But', 'some'), 4.706770286018095),\n",
       " (('companies', 'are'), 4.699565848031568),\n",
       " (('they', 'are'), 4.699565848031565),\n",
       " (('which', '*T*-2'), 4.697054628875517),\n",
       " (('Campbell', \"'s\"), 4.694547773264944),\n",
       " (('to', 'block'), 4.691878586488956),\n",
       " (('$', '500'), 4.690947651661691),\n",
       " (('director', 'of'), 4.688000685668303),\n",
       " (('loss', 'of'), 4.688000685668303),\n",
       " (('to', 'see'), 4.6818944979163355),\n",
       " (('noted', '0'), 4.680883338204373),\n",
       " (('by', 'Congress'), 4.672892578201525),\n",
       " (('to', 'make'), 4.671979029051251),\n",
       " (('There', \"'s\"), 4.6718276967648595),\n",
       " (('or', 'even'), 4.66895018759946),\n",
       " (('but', 'they'), 4.66671001987952),\n",
       " (('to', 'prevent'), 4.665406375127768),\n",
       " (('head', 'of'), 4.662465593561167),\n",
       " (('began', '*-1'), 4.656143065912433),\n",
       " (('would', \"n't\"), 4.655168078124362),\n",
       " (('amount', 'of'), 4.651577277418429),\n",
       " (('he', 'would'), 4.651473594566623),\n",
       " (('0', '*T*-2'), 4.6415209059336),\n",
       " (('in', 'effect'), 4.638404695227409),\n",
       " (('in', 'recent'), 4.638404695227408),\n",
       " (('the', 'Mississippi'), 4.637436289553383),\n",
       " (('the', 'Philippines'), 4.637436289553383),\n",
       " (('violate', 'the'), 4.637436289553383),\n",
       " (('the', 'Cray-3'), 4.637436289553381),\n",
       " (('the', 'same'), 4.637436289553381),\n",
       " (('throughout', 'the'), 4.637436289553381),\n",
       " (('.', 'For'), 4.634523002192722),\n",
       " (('of', 'America'), 4.632718250167116),\n",
       " (('*EXP*-1', \"'s\"), 4.627433577406405),\n",
       " (('*ICH*-3', 'in'), 4.622463151358385),\n",
       " (('in', 'April'), 4.622463151358385),\n",
       " (('about', '$'), 4.614944717306766),\n",
       " (('He', 'has'), 4.609356755575519),\n",
       " (('decline', 'in'), 4.608657351833356),\n",
       " (('a', 'one-time'), 4.606875405467012),\n",
       " (('a', 'recession'), 4.606875405467012),\n",
       " (('a', 'similar'), 4.606875405467012),\n",
       " (('.', 'Among'), 4.601507944964762),\n",
       " (('company', 'said'), 4.5877739338128904),\n",
       " (('fine', 'and'), 4.584141143373481),\n",
       " (('.', 'Despite'), 4.5794816386347605),\n",
       " (('of', 'course'), 4.565604054308579),\n",
       " (('revenue', 'of'), 4.565604054308579),\n",
       " (('.', 'But'), 4.562951533712276),\n",
       " (('*-3', 'to'), 4.561901799373906),\n",
       " (('offer', 'for'), 4.560504158489714),\n",
       " (('.', 'In'), 4.554364961565618),\n",
       " (('that', 'we'), 4.547897914314097),\n",
       " (('.', 'Analysts'), 4.547060160942385),\n",
       " (('.', 'Each'), 4.547060160942385),\n",
       " (('$', '15'), 4.546557742326517),\n",
       " (('because', 'it'), 4.542339182342031),\n",
       " (('to', 'find'), 4.5398754930439065),\n",
       " (('.', 'On'), 4.5364129167428775),\n",
       " (('end', 'of'), 4.533182576616198),\n",
       " (('``', 'very'), 4.531764841066648),\n",
       " (('bonds', 'are'), 4.531168316335847),\n",
       " (('million', 'common'), 4.527197775668386),\n",
       " (('.', 'According'), 4.5243400844423025),\n",
       " (('.', 'Also'), 4.5243400844423025),\n",
       " (('.', 'Most'), 4.5243400844423025),\n",
       " (('form', 'of'), 4.522535332416691),\n",
       " (('added', '0'), 4.517384605921491),\n",
       " (('.', 'As'), 4.510534284917274),\n",
       " (('.', 'The'), 4.5072802589570315),\n",
       " (('increase', 'in'), 4.5062100828625375),\n",
       " (('0', 'she'), 4.498525578670176),\n",
       " (('.', 'At'), 4.494592741048251),\n",
       " (('.', 'Says'), 4.494592741048251),\n",
       " (('.', 'Then'), 4.494592741048251),\n",
       " (('.', 'Your'), 4.494592741048251),\n",
       " (('-LRB-', '$'), 4.4910626297348095),\n",
       " ((\"''\", 'he'), 4.485300727985415),\n",
       " (('a', 'slowing'), 4.481344523383154),\n",
       " (('a', 'young'), 4.481344523383154),\n",
       " (('on', 'Tuesday'), 4.481088476698501),\n",
       " (('.', 'They'), 4.480917804151172),\n",
       " (('the', 'past'), 4.479895012566903),\n",
       " (('0', 'he'), 4.47924947703472),\n",
       " (('to', 'sell'), 4.475745155624189),\n",
       " (('who', '*T*-1'), 4.4739770892392485),\n",
       " ((':', '``'), 4.4737175556987765),\n",
       " ((\"''\", 'He'), 4.471114821742104),\n",
       " (('It', \"'s\"), 4.468544098376114),\n",
       " (('a', 'package'), 4.4642710100242144),\n",
       " (('company', \"'s\"), 4.456814805794007),\n",
       " (('.', 'Another'), 4.453950756550903),\n",
       " (('.', 'Because'), 4.453950756550903),\n",
       " (('.', 'Indeed'), 4.453950756550903),\n",
       " (('.', 'Other'), 4.453950756550903),\n",
       " (('.', 'Profit'), 4.453950756550903),\n",
       " (('.', 'Ralston'), 4.453950756550903),\n",
       " (('.', 'Some'), 4.453950756550903),\n",
       " (('.', 'Those'), 4.453950756550903),\n",
       " (('.', 'Without'), 4.453950756550903),\n",
       " (('.', 'Yesterday'), 4.453950756550903),\n",
       " (('much', 'as'), 4.4456831405673025),\n",
       " (('the', 'highest'), 4.444791211610989),\n",
       " (('the', 'region'), 4.444791211610989),\n",
       " (('to', 'get'), 4.444718260003565),\n",
       " ((\"n't\", 'be'), 4.443187127763235),\n",
       " (('``', 'They'), 4.436112602002963),\n",
       " (('to', 'help'), 4.43553883322917),\n",
       " (('department', \"'s\"), 4.4315133674311475),\n",
       " (('.', 'After'), 4.427478545189711),\n",
       " (('.', 'And'), 4.427478545189711),\n",
       " (('.', 'By'), 4.427478545189711),\n",
       " (('.', 'With'), 4.427478545189711),\n",
       " (('to', 'reduce'), 4.4243982756239735),\n",
       " (('a', 'special'), 4.422450834329586),\n",
       " (('.', 'One'), 4.4121305808562745),\n",
       " (('*-2', 'to'), 4.410107618073578),\n",
       " (('it', 'would'), 4.409500804260656),\n",
       " (('to', 'boost'), 4.402371969293972),\n",
       " (('a', 'few'), 4.400424527999588),\n",
       " (('In', 'his'), 4.400373315027114),\n",
       " ((\"''\", 'she'), 4.394152839927219),\n",
       " (('0', 'we'), 4.391853723837631),\n",
       " (('are', \"n't\"), 4.391443552669237),\n",
       " (('he', 'said'), 4.38614007264324),\n",
       " (('the', 'nation'), 4.385897522557418),\n",
       " (('.', 'He'), 4.385141598632252),\n",
       " (('$', '30'), 4.384286313427639),\n",
       " (('other', 'than'), 4.383346084970636),\n",
       " (('they', 'have'), 4.377079326568282),\n",
       " (('the', 'ABA'), 4.374401883719587),\n",
       " (('Association', 'of'), 4.36968384433332),\n",
       " (('had', \"n't\"), 4.368173773346387),\n",
       " (('a', 'third-quarter'), 4.365867305963217),\n",
       " (('launched', 'a'), 4.365867305963217),\n",
       " ((',', 'Calif.'), 4.365217430014976),\n",
       " ((',', 'Conn.'), 4.365217430014976),\n",
       " ((',', 'Ill.'), 4.365217430014976),\n",
       " ((',', 'N.J.'), 4.365217430014976),\n",
       " ((',', 'N.Y.'), 4.365217430014976),\n",
       " ((',', 'Pa.'), 4.365217430014976),\n",
       " ((',', 'according'), 4.365217430014976),\n",
       " ((',', 'however'), 4.365217430014976),\n",
       " (('Conn.', ','), 4.365217430014976),\n",
       " (('Ill.', ','), 4.365217430014976),\n",
       " (('Indeed', ','), 4.365217430014976),\n",
       " (('N.J.', ','), 4.365217430014976),\n",
       " (('N.Y.', ','), 4.365217430014976),\n",
       " ((',', 'Colo.'), 4.365217430014974),\n",
       " ((',', 'Fla.'), 4.365217430014974),\n",
       " ((',', 'Mass.'), 4.365217430014974),\n",
       " ((',', 'Mich.'), 4.365217430014974),\n",
       " ((',', 'N.J'), 4.365217430014974),\n",
       " ((',', 'meanwhile'), 4.365217430014974),\n",
       " (('Colo.', ','), 4.365217430014974),\n",
       " (('Heights', ','), 4.365217430014974),\n",
       " (('Meanwhile', ','), 4.365217430014974),\n",
       " (('Moreover', ','), 4.365217430014974),\n",
       " (('meanwhile', ','), 4.365217430014974),\n",
       " (('do', '*T*-2'), 4.3644792897886475),\n",
       " (('Corp.', 'said'), 4.361265404004211),\n",
       " (('bid', 'for'), 4.360205508003885),\n",
       " (('.', 'Dealers'), 4.35441508299999),\n",
       " (('.', 'Now'), 4.35441508299999),\n",
       " (('firm', \"'s\"), 4.349899601877496),\n",
       " (('.', 'That'), 4.34925337788421),\n",
       " (('change', 'in'), 4.348898078032423),\n",
       " (('the', 'world'), 4.347929672358397),\n",
       " (('.', 'These'), 4.345016384997738),\n",
       " (('it', 'will'), 4.345003695505323),\n",
       " (('is', 'not'), 4.343833886611662),\n",
       " (('make', 'it'), 4.342072876740367),\n",
       " (('there', 'was'), 4.334189277664532),\n",
       " (('0', '*T*-1'), 4.330354127476522),\n",
       " (('.', 'Many'), 4.329962039275452),\n",
       " (('a', 'result'), 4.329341429938104),\n",
       " (('.', 'When'), 4.324667739605935),\n",
       " (('they', 'could'), 4.320152258483443),\n",
       " (('*-1', 'to'), 4.316626364413349),\n",
       " (('the', 'Soviets'), 4.31550819466602),\n",
       " (('the', 'size'), 4.31550819466602),\n",
       " (('is', \"n't\"), 4.311160167456823),\n",
       " (('Inc.', 'said'), 4.309789186513125),\n",
       " (('*U*', ';'), 4.306205140651521),\n",
       " (('a', 'gain'), 4.303806337830968),\n",
       " (('of', 'asbestos'), 4.302569648474783),\n",
       " (('type', 'of'), 4.302569648474783),\n",
       " (('.', 'Even'), 4.301947663105855),\n",
       " (('and', 'marketing'), 4.292537585342915),\n",
       " (('The', 'Chicago'), 4.2922287141878765),\n",
       " (('$', '1'), 4.290217989066731),\n",
       " (('earnings', 'for'), 4.282202996002612),\n",
       " (('The', 'company'), 4.281088156582676),\n",
       " (('But', 'he'), 4.27744439980685),\n",
       " (('to', 'improve'), 4.276841087210112),\n",
       " (('the', 'Reagan'), 4.274866210168675),\n",
       " (('Calif.', ','), 4.272108025623496),\n",
       " (('for', 'several'), 4.267096103612401),\n",
       " (('is', 'part'), 4.265717196695652),\n",
       " (('It', 'was'), 4.263222756310391),\n",
       " (('a', 'bad'), 4.258952102046706),\n",
       " (('.', 'A'), 4.257553543747399),\n",
       " (('.', 'So'), 4.257553543747399),\n",
       " (('.', 'Such'), 4.257553543747399),\n",
       " (('I', 'have'), 4.245834793290028),\n",
       " (('*', 'by'), 4.245543526077984),\n",
       " (('.', 'While'), 4.243053974052284),\n",
       " (('became', 'a'), 4.241878588687767),\n",
       " (('as', 'many'), 4.240568710662691),\n",
       " ((\"'s\", 'construction'), 4.232204559207741),\n",
       " (('.', 'Net'), 4.231558335214455),\n",
       " (('.', 'Yet'), 4.231558335214455),\n",
       " (('*T*-1', '?'), 4.227758654176551),\n",
       " (('However', ','), 4.2277139062650395),\n",
       " (('in', 'Tokyo'), 4.2233671959485655),\n",
       " (('the', 'main'), 4.222398790274541),\n",
       " (('the', 'Constitution'), 4.2223987902745375),\n",
       " (('In', 'New'), 4.2159487438896885),\n",
       " (('a', 'large'), 4.208326028976737),\n",
       " (('plans', '*'), 4.202474804186098),\n",
       " (('sold', '*-1'), 4.200815845607872),\n",
       " (('chairman', 'of'), 4.196147589338629),\n",
       " (('rise', 'in'), 4.193619852554514),\n",
       " (('*U*', 'each'), 4.192676195021102),\n",
       " (('across', 'the'), 4.18997731258216),\n",
       " (('Department', 'said'), 4.18723600422916),\n",
       " (('.', 'Program'), 4.1864704456859165),\n",
       " (('state', \"'s\"), 4.186400869594616),\n",
       " (('.', 'It'), 4.181653429388142),\n",
       " ...]"
      ]
     },
     "execution_count": 54,
     "metadata": {},
     "output_type": "execute_result"
    }
   ],
   "source": [
    "scored_bigrams"
   ]
  },
  {
   "cell_type": "code",
   "execution_count": null,
   "metadata": {},
   "outputs": [],
   "source": []
  },
  {
   "cell_type": "markdown",
   "metadata": {
    "id": "XssZSd30_dww"
   },
   "source": [
    "**Print Top Collocations:**\n",
    "Print the top collocations based on the chosen scoring method."
   ]
  },
  {
   "cell_type": "code",
   "execution_count": 55,
   "metadata": {},
   "outputs": [
    {
     "data": {
      "text/plain": [
       "[(('Burnham', 'Lambert'), 14.29743218198336),\n",
       " (('Merrill', 'Lynch'), 14.29743218198336),\n",
       " (('Tony', 'Lama'), 14.29743218198336),\n",
       " (('Lehman', 'Hutton'), 14.034397776149568),\n",
       " (('Hong', 'Kong'), 13.81200535481312),\n",
       " (('circuit', 'breaker'), 13.81200535481312),\n",
       " (('denying', 'wrongdoing'), 13.81200535481312),\n",
       " (('Morgan', 'Stanley'), 13.589612933476673),\n",
       " (('POP', 'Radio'), 13.449435275428412),\n",
       " (('Heritage', 'Media'), 13.29743218198336)]"
      ]
     },
     "execution_count": 55,
     "metadata": {},
     "output_type": "execute_result"
    }
   ],
   "source": [
    "scored_bigrams[:10]"
   ]
  },
  {
   "cell_type": "markdown",
   "metadata": {
    "id": "igJ0sEG76qxU"
   },
   "source": [
    "\n",
    "## Counting Vocabulary\n",
    "\n",
    "### Lexical Diversity, Tokens, and Types\n",
    "\n",
    "To understand the richness of vocabulary in a text, we can calculate lexical diversity, tokens, and types.\n",
    "\n",
    "Lexical diversity is the ratio of the number of unique words to the total number of words in the text."
   ]
  },
  {
   "cell_type": "code",
   "execution_count": 57,
   "metadata": {},
   "outputs": [],
   "source": [
    "texts =  ['our','name','apple','marry']"
   ]
  },
  {
   "cell_type": "code",
   "execution_count": 60,
   "metadata": {},
   "outputs": [
    {
     "data": {
      "text/plain": [
       "1.0"
      ]
     },
     "execution_count": 60,
     "metadata": {},
     "output_type": "execute_result"
    }
   ],
   "source": [
    "len(set(texts)) / len(texts)"
   ]
  },
  {
   "cell_type": "code",
   "execution_count": null,
   "metadata": {},
   "outputs": [],
   "source": []
  },
  {
   "cell_type": "code",
   "execution_count": null,
   "metadata": {},
   "outputs": [],
   "source": []
  },
  {
   "cell_type": "code",
   "execution_count": null,
   "metadata": {},
   "outputs": [],
   "source": []
  },
  {
   "cell_type": "code",
   "execution_count": 61,
   "metadata": {
    "colab": {
     "base_uri": "https://localhost:8080/"
    },
    "id": "rggcPMaF6u62",
    "outputId": "21deed64-c9a9-4b81-9abf-1a5e509ce26a"
   },
   "outputs": [
    {
     "name": "stdout",
     "output_type": "stream",
     "text": [
      "0.07406285585022564\n",
      "0.12324685128531129\n"
     ]
    }
   ],
   "source": [
    "# Calculating lexical diversity of a text\n",
    "def lexical_diversity(text):\n",
    "    return len(set(text)) / len(text)\n",
    "\n",
    "print(lexical_diversity(text1))\n",
    "print(lexical_diversity(text7))"
   ]
  },
  {
   "cell_type": "code",
   "execution_count": null,
   "metadata": {},
   "outputs": [],
   "source": []
  },
  {
   "cell_type": "markdown",
   "metadata": {
    "id": "wltUb5uL7hjJ"
   },
   "source": [
    "## Basic Statistics of Text\n",
    "\n",
    "### Word Frequency and Cumulative Word Frequency Plot\n",
    "\n",
    "To analyze word frequency in a text, NLTK provides the `FreqDist` class.\n",
    "\n"
   ]
  },
  {
   "cell_type": "code",
   "execution_count": 62,
   "metadata": {
    "colab": {
     "base_uri": "https://localhost:8080/"
    },
    "id": "PD9K_ODq7mWu",
    "outputId": "e9aff823-a39b-4d1b-99bc-bbab8a95d8bb"
   },
   "outputs": [
    {
     "data": {
      "text/plain": [
       "FreqDist({',': 4885, 'the': 4045, '.': 3828, 'of': 2319, 'to': 2164, 'a': 1878, 'in': 1572, 'and': 1511, '*-1': 1123, '0': 1099, ...})"
      ]
     },
     "execution_count": 62,
     "metadata": {},
     "output_type": "execute_result"
    }
   ],
   "source": [
    "# Finding word frequency in a text\n",
    "fdist = FreqDist(text7)\n",
    "fdist"
   ]
  },
  {
   "cell_type": "markdown",
   "metadata": {
    "id": "EtVmtsaZ7kI_"
   },
   "source": [
    "The `FreqDist` object contains the frequency distribution of words in the text."
   ]
  },
  {
   "cell_type": "code",
   "execution_count": 50,
   "metadata": {
    "colab": {
     "base_uri": "https://localhost:8080/",
     "height": 523
    },
    "id": "qxeNDbiO7tzT",
    "outputId": "6af8c8ed-8f1a-45a2-f39c-3c53f76490b2"
   },
   "outputs": [
    {
     "data": {
      "image/png": "[encoded data removed]",
      "text/plain": [
       "<Figure size 640x480 with 1 Axes>"
      ]
     },
     "metadata": {},
     "output_type": "display_data"
    },
    {
     "data": {
      "text/plain": [
       "<Axes: xlabel='Samples', ylabel='Cumulative Counts'>"
      ]
     },
     "execution_count": 50,
     "metadata": {},
     "output_type": "execute_result"
    }
   ],
   "source": [
    "# Plotting the cumulative word frequency\n",
    "fdist.plot(50, cumulative=True)"
   ]
  },
  {
   "cell_type": "markdown",
   "metadata": {
    "id": "74YHxjRs7yD6"
   },
   "source": [
    "\n",
    "The `plot` function generates a cumulative word frequency plot for the top 50 words in the text.\n"
   ]
  },
  {
   "cell_type": "markdown",
   "metadata": {
    "id": "aXGYHi8o9fYS"
   },
   "source": [
    "# The brown corpus\n",
    "The Brown Corpus is a landmark linguistic resource and one of the earliest and most widely used corpora in natural language processing (NLP). Compiled in the early 1960s by researchers at Brown University, hence its name, the corpus represents a diverse and comprehensive collection of text samples from various genres and sources.\n",
    "\n",
    "Containing over a million words, the Brown Corpus serves as a representative snapshot of American English, encompassing both written and spoken language. It is categorized into numerous genres such as news, fiction, science, and more, allowing researchers to explore language patterns across different domains.\n",
    "\n",
    "The Brown Corpus has played a crucial role in advancing computational linguistics and NLP research, providing valuable insights into language structure, semantics, and usage. Linguists and language researchers commonly use it for studying language variation, developing language models, and evaluating algorithms in text processing and analysis.\n",
    "\n",
    "Due to its historical significance and enduring relevance, the Brown Corpus remains an essential resource for anyone interested in the exploration and analysis of natural language."
   ]
  },
  {
   "cell_type": "code",
   "execution_count": 63,
   "metadata": {
    "id": "CS-Dq61v9wpo"
   },
   "outputs": [
    {
     "name": "stderr",
     "output_type": "stream",
     "text": [
      "[nltk_data] Downloading package brown to /Users/aasibipin/nltk_data...\n",
      "[nltk_data]   Package brown is already up-to-date!\n"
     ]
    }
   ],
   "source": [
    "import nltk\n",
    "\n",
    "# Download the Brown Corpus\n",
    "nltk.download('brown')\n",
    "\n",
    "# Load the Brown Corpus\n",
    "from nltk.corpus import brown"
   ]
  },
  {
   "cell_type": "code",
   "execution_count": 52,
   "metadata": {
    "colab": {
     "base_uri": "https://localhost:8080/"
    },
    "id": "DyE1aVRJ81aq",
    "outputId": "a8d815da-622c-449f-ca81-cea3965e1d85"
   },
   "outputs": [
    {
     "name": "stdout",
     "output_type": "stream",
     "text": [
      "Categories in the Brown Corpus: ['adventure', 'belles_lettres', 'editorial', 'fiction', 'government', 'hobbies', 'humor', 'learned', 'lore', 'mystery', 'news', 'religion', 'reviews', 'romance', 'science_fiction']\n",
      "\n",
      "Sample words from the 'news' category: ['The', 'Fulton', 'County', 'Grand', 'Jury', 'said', 'Friday', 'an', 'investigation', 'of']\n"
     ]
    },
    {
     "name": "stderr",
     "output_type": "stream",
     "text": [
      "[nltk_data] Downloading package brown to /root/nltk_data...\n",
      "[nltk_data]   Package brown is already up-to-date!\n"
     ]
    }
   ],
   "source": [
    "# Accessing categories in the Brown Corpus\n",
    "categories = brown.categories()\n",
    "print(\"Categories in the Brown Corpus:\", categories)\n",
    "\n",
    "# Accessing words in a specific category (e.g., 'news')\n",
    "news_words = brown.words(categories='news')\n",
    "print(\"\\nSample words from the 'news' category:\", news_words[:10])\n"
   ]
  },
  {
   "cell_type": "markdown",
   "metadata": {
    "id": "zPofXKh9815a"
   },
   "source": [
    "# Exercises\n",
    "\n",
    "1. How many words are there in each text book of nltk. ? How many distinct words are there? Tabulate the results.\n",
    "\n",
    "2. Compare the lexical diversity scores for adventure, editorial and hobbies categories of brown corpus. Which genre is more lexically diverse?\n",
    "\n",
    "3. Produce a dispersion plot of the four main protagonists in Sense and Sensibility (text2): Elinor, Marianne, Edward, and Willoughby. What can you observe about the different roles played by the males and females in this novel? Can you identify the couples?\n",
    "\n",
    "4. Find the collocations in Monty Python and the Holy .\n",
    "\n",
    "5. Find all the four-letter words in the Chat Corpus (text5). With the help of a frequency distribution (FreqDist), show these words in decreasing order of frequency.\n",
    "\n",
    "6. Define a function called vocab_size(text) that has a single parameter for the text, and which returns the vocabulary size of the text."
   ]
  }
 ],
 "metadata": {
  "colab": {
   "provenance": [],
   "toc_visible": true
  },
  "kernelspec": {
   "display_name": "Python 3 (ipykernel)",
   "language": "python",
   "name": "python3"
  },
  "language_info": {
   "codemirror_mode": {
    "name": "ipython",
    "version": 3
   },
   "file_extension": ".py",
   "mimetype": "text/x-python",
   "name": "python",
   "nbconvert_exporter": "python",
   "pygments_lexer": "ipython3",
   "version": "3.10.16"
  }
 },
 "nbformat": 4,
 "nbformat_minor": 4
}
